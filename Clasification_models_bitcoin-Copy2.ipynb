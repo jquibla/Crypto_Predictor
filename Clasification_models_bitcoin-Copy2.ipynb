{
 "cells": [
  {
   "cell_type": "code",
   "execution_count": 34,
   "metadata": {},
   "outputs": [],
   "source": [
    "import pandas as pd\n",
    "import numpy as np\n",
    "from sklearn import metrics\n",
    "\n",
    "from sklearn.model_selection import train_test_split\n",
    "from datetime import datetime\n",
    "from sklearn.pipeline import Pipeline\n",
    "from sklearn.preprocessing import OneHotEncoder\n",
    "\n",
    "from sklearn.compose import ColumnTransformer\n",
    "from sklearn.preprocessing import StandardScaler\n",
    "\n",
    "from sklearn.linear_model import LogisticRegression\n",
    "from sklearn.tree import DecisionTreeClassifier\n",
    "from sklearn.svm import SVC\n",
    "from sklearn.naive_bayes import GaussianNB\n",
    "from sklearn.neighbors import KNeighborsClassifier\n",
    "from sklearn.ensemble import AdaBoostClassifier\n",
    "\n",
    "import numbers\n",
    "from sklearn import model_selection\n"
   ]
  },
  {
   "cell_type": "code",
   "execution_count": 35,
   "metadata": {},
   "outputs": [],
   "source": [
    "# Aquí, a futuro, habría que añadir los datos del Nasdaq, oro y/o Ethereum para ver los resultados\n",
    "data_for_use = pd.read_csv('./bitcoin_data_for_use_v2.csv', index_col=0)\n",
    "data_gold = pd.read_csv('./gold_data_for_use.csv', index_col=0)\n",
    "data_nasdaq = pd.read_csv('./nasdaq_data_for_use.csv', index_col=0)\n",
    "\n",
    "data_for_use_w_gold = data_for_use.merge(data_gold, left_index=True, right_index=True)\n",
    "data_for_use_w_nasdaq = data_for_use.merge(data_nasdaq, left_index=True, right_index=True)\n",
    "\n",
    "data_for_use_w_all = data_for_use_w_gold.merge(data_nasdaq, left_index=True, right_index=True)\n",
    "\n",
    "\n",
    "\n"
   ]
  },
  {
   "cell_type": "code",
   "execution_count": 36,
   "metadata": {},
   "outputs": [],
   "source": [
    "#aqui se marca lo que se va a usar de verdad para el resto del programa\n",
    "data_for_use = data_for_use_w_all"
   ]
  },
  {
   "cell_type": "code",
   "execution_count": 37,
   "metadata": {},
   "outputs": [],
   "source": [
    "# Partimos los datos en train y test por fechas, sin que sea aleatorio, que es como funcionaría\n",
    "# en la realidad el modelo\n",
    "data_no_test, data_test = train_test_split(data_for_use, shuffle=False, test_size=0.2)\n",
    "\n",
    "# Partimos los datos de train nuevamente en validation y train\n",
    "data_train, data_valid = train_test_split(data_no_test, shuffle=False, test_size=0.2)"
   ]
  },
  {
   "cell_type": "code",
   "execution_count": 38,
   "metadata": {},
   "outputs": [],
   "source": [
    "# Separamos la variable que queremos predecir\n",
    "X_train=data_train.drop(labels=['subida'], axis=1)\n",
    "y_train=data_train['subida']\n",
    "\n",
    "X_valid=data_valid.drop(labels=['subida'], axis=1)\n",
    "y_valid=data_valid['subida']\n",
    "\n",
    "X_test=data_test.drop(labels=['subida'], axis=1)\n",
    "y_test=data_test['subida']"
   ]
  },
  {
   "cell_type": "code",
   "execution_count": 39,
   "metadata": {},
   "outputs": [
    {
     "data": {
      "text/plain": [
       "0.5683345780433159"
      ]
     },
     "execution_count": 39,
     "metadata": {},
     "output_type": "execute_result"
    }
   ],
   "source": [
    "# Miramos cuántos días sube el bitcoin sobre el total en cada uno de los segmentos\n",
    "# esto nos servirá para hacernos una idea de cómo de buenos son los resultados de los modelos\n",
    "y_train.sum()/y_train.size"
   ]
  },
  {
   "cell_type": "code",
   "execution_count": 40,
   "metadata": {},
   "outputs": [
    {
     "data": {
      "text/plain": [
       "0.48656716417910445"
      ]
     },
     "execution_count": 40,
     "metadata": {},
     "output_type": "execute_result"
    }
   ],
   "source": [
    "y_valid.sum()/y_valid.size"
   ]
  },
  {
   "cell_type": "code",
   "execution_count": 41,
   "metadata": {},
   "outputs": [
    {
     "data": {
      "text/plain": [
       "0.5513126491646778"
      ]
     },
     "execution_count": 41,
     "metadata": {},
     "output_type": "execute_result"
    }
   ],
   "source": [
    "y_test.sum()/y_test.size"
   ]
  },
  {
   "cell_type": "code",
   "execution_count": 42,
   "metadata": {},
   "outputs": [],
   "source": [
    "#Tenemos que hacer one-hot encoding sobre la columna \"dia\"\n",
    "#Sobre el resto aplicamos el standardscaler\n",
    "\n",
    "number_columns = data_for_use.select_dtypes('number').columns\n",
    "\n",
    "t=[('dia', \n",
    "    OneHotEncoder(handle_unknown='ignore'),\n",
    "    ['dia'])\n",
    "    ,('scaler', StandardScaler(),number_columns)\n",
    "    ]\n",
    "\n",
    "ct = ColumnTransformer(transformers=t, remainder='passthrough')\n",
    "\n",
    "#data_for_use_t=ct.fit_transform(data_for_use)\n",
    "\n",
    "#X_train=ct.fit_transform(X_train)\n",
    "#X_valid=ct.transform(X_valid)\n",
    "#X_test=ct.transform(X_test)"
   ]
  },
  {
   "cell_type": "code",
   "execution_count": 43,
   "metadata": {},
   "outputs": [],
   "source": [
    "def walk_forward_validation (model, X_train_wfv, y_train_wfv, X_test_wfv, y_test_wfv):\n",
    "    y_pred_wfv = list()\n",
    "    for i in range(len(y_test_wfv)):\n",
    "        X_train_wfv_ct=ct.fit_transform(X_train_wfv)\n",
    "        model.fit(X_train_wfv_ct, y_train_wfv)\n",
    "        X_test_wfv_ct=ct.transform(X_test_wfv)\n",
    "        y_pred_next = model.predict(X_test_wfv_ct[i:i+1])\n",
    "        y_pred_wfv.append(y_pred_next[0])\n",
    "        X_train_wfv=X_train_wfv.append(X_test_wfv[i:i+1])\n",
    "        y_train_wfv=y_train_wfv.append(pd.Series(y_test_wfv[i]))\n",
    "    \n",
    "    return metrics.confusion_matrix(y_test_wfv, y_pred_wfv), metrics.f1_score(y_test_wfv,y_pred_wfv), metrics.accuracy_score(y_test_wfv,y_pred_wfv)\n",
    "        \n",
    "        "
   ]
  },
  {
   "cell_type": "code",
   "execution_count": 13,
   "metadata": {},
   "outputs": [],
   "source": [
    "lr = LogisticRegression(penalty='l2', solver='lbfgs')\n",
    "\n",
    "X_train_c=X_train.copy()\n",
    "y_train_c=y_train.copy()\n",
    "X_valid_c=X_valid.copy()\n",
    "y_valid_c=y_valid.copy()\n",
    "\n",
    "\n",
    "conf_mat, f1sc, accsc = walk_forward_validation(lr, X_train_c, y_train_c, X_valid_c, y_valid_c)"
   ]
  },
  {
   "cell_type": "code",
   "execution_count": 14,
   "metadata": {},
   "outputs": [
    {
     "name": "stdout",
     "output_type": "stream",
     "text": [
      "[[99 73]\n",
      " [88 75]] 0.48231511254019294 0.5194029850746269\n"
     ]
    }
   ],
   "source": [
    "print(conf_mat, f1sc, accsc)"
   ]
  },
  {
   "cell_type": "code",
   "execution_count": 27,
   "metadata": {},
   "outputs": [
    {
     "name": "stdout",
     "output_type": "stream",
     "text": [
      "Numero de vecinos aplicado: 1\n",
      "[[98 74]\n",
      " [86 77]] 0.49044585987261147 0.5223880597014925\n",
      "Numero de vecinos aplicado: 2\n",
      "[[134  38]\n",
      " [127  36]] 0.30379746835443044 0.5074626865671642\n",
      "Numero de vecinos aplicado: 3\n",
      "[[81 91]\n",
      " [80 83]] 0.4925816023738872 0.48955223880597015\n",
      "Numero de vecinos aplicado: 4\n",
      "[[111  61]\n",
      " [112  51]] 0.37090909090909097 0.4835820895522388\n",
      "Numero de vecinos aplicado: 5\n",
      "[[ 70 102]\n",
      " [ 71  92]] 0.5154061624649859 0.4835820895522388\n",
      "Numero de vecinos aplicado: 6\n",
      "[[94 78]\n",
      " [97 66]] 0.4299674267100977 0.47761194029850745\n",
      "Numero de vecinos aplicado: 7\n",
      "[[ 64 108]\n",
      " [ 76  87]] 0.48603351955307267 0.4507462686567164\n",
      "Numero de vecinos aplicado: 8\n",
      "[[80 92]\n",
      " [89 74]] 0.4498480243161094 0.4597014925373134\n",
      "Numero de vecinos aplicado: 9\n",
      "[[ 59 113]\n",
      " [ 63 100]] 0.5319148936170213 0.4746268656716418\n",
      "Numero de vecinos aplicado: 10\n",
      "[[78 94]\n",
      " [85 78]] 0.46567164179104475 0.46567164179104475\n",
      "Numero de vecinos aplicado: 11\n",
      "[[ 55 117]\n",
      " [ 63 100]] 0.5263157894736842 0.4626865671641791\n",
      "Numero de vecinos aplicado: 12\n",
      "[[ 69 103]\n",
      " [ 86  77]] 0.44897959183673464 0.43582089552238806\n",
      "Numero de vecinos aplicado: 13\n",
      "[[ 52 120]\n",
      " [ 55 108]] 0.5524296675191815 0.47761194029850745\n",
      "Numero de vecinos aplicado: 14\n",
      "[[ 68 104]\n",
      " [ 76  87]] 0.4915254237288136 0.4626865671641791\n",
      "Numero de vecinos aplicado: 15\n",
      "[[ 44 128]\n",
      " [ 51 112]] 0.5558312655086848 0.46567164179104475\n",
      "Numero de vecinos aplicado: 16\n",
      "[[ 59 113]\n",
      " [ 64  99]] 0.5279999999999999 0.4716417910447761\n",
      "Numero de vecinos aplicado: 17\n",
      "[[ 43 129]\n",
      " [ 42 121]] 0.5859564164648909 0.48955223880597015\n",
      "Numero de vecinos aplicado: 18\n",
      "[[ 57 115]\n",
      " [ 60 103]] 0.5406824146981627 0.47761194029850745\n",
      "Numero de vecinos aplicado: 19\n",
      "[[ 35 137]\n",
      " [ 41 122]] 0.5781990521327014 0.46865671641791046\n",
      "Numero de vecinos aplicado: 20\n",
      "[[ 49 123]\n",
      " [ 58 105]] 0.537084398976982 0.4597014925373134\n",
      "Numero de vecinos aplicado: 21\n",
      "[[ 34 138]\n",
      " [ 41 122]] 0.5768321513002365 0.46567164179104475\n",
      "Numero de vecinos aplicado: 22\n",
      "[[ 47 125]\n",
      " [ 57 106]] 0.5380710659898478 0.45671641791044776\n",
      "Numero de vecinos aplicado: 23\n",
      "[[ 37 135]\n",
      " [ 37 126]] 0.5943396226415094 0.48656716417910445\n",
      "Numero de vecinos aplicado: 24\n",
      "[[ 51 121]\n",
      " [ 49 114]] 0.5728643216080402 0.4925373134328358\n",
      "Numero de vecinos aplicado: 25\n",
      "[[ 38 134]\n",
      " [ 37 126]] 0.5957446808510638 0.48955223880597015\n",
      "Numero de vecinos aplicado: 26\n",
      "[[ 52 120]\n",
      " [ 50 113]] 0.5707070707070707 0.4925373134328358\n",
      "Numero de vecinos aplicado: 27\n",
      "[[ 34 138]\n",
      " [ 35 128]] 0.5967365967365968 0.4835820895522388\n",
      "Numero de vecinos aplicado: 28\n",
      "[[ 49 123]\n",
      " [ 46 117]] 0.5806451612903225 0.4955223880597015\n",
      "Numero de vecinos aplicado: 29\n",
      "[[ 27 145]\n",
      " [ 33 130]] 0.593607305936073 0.46865671641791046\n",
      "Numero de vecinos aplicado: 30\n",
      "[[ 42 130]\n",
      " [ 41 122]] 0.5879518072289157 0.48955223880597015\n"
     ]
    }
   ],
   "source": [
    "for vecinos in range(1,31):\n",
    "    kn = KNeighborsClassifier(n_neighbors=vecinos)\n",
    "    \n",
    "    X_train_c=X_train.copy()\n",
    "    y_train_c=y_train.copy()\n",
    "    X_valid_c=X_valid.copy()\n",
    "    y_valid_c=y_valid.copy()\n",
    "\n",
    "\n",
    "    conf_mat, f1sc, accsc = walk_forward_validation(kn, X_train_c, y_train_c, X_valid_c, y_valid_c)\n",
    "    print (\"Numero de vecinos aplicado: \" + str(vecinos))\n",
    "    print(conf_mat, f1sc, accsc)"
   ]
  },
  {
   "cell_type": "code",
   "execution_count": 28,
   "metadata": {},
   "outputs": [
    {
     "name": "stdout",
     "output_type": "stream",
     "text": [
      "Grado aplicado: 1\n",
      "[[ 56 116]\n",
      " [ 55 108]] 0.5581395348837208 0.48955223880597015\n",
      "Grado aplicado: 2\n",
      "[[ 33 139]\n",
      " [ 40 123]] 0.5788235294117647 0.46567164179104475\n",
      "Grado aplicado: 3\n",
      "[[ 21 151]\n",
      " [ 18 145]] 0.6318082788671023 0.4955223880597015\n"
     ]
    }
   ],
   "source": [
    "for grado in range(1,4):\n",
    "    sv = SVC(probability=True, kernel='poly', degree=grado)\n",
    "    \n",
    "    X_train_c=X_train.copy()\n",
    "    y_train_c=y_train.copy()\n",
    "    X_valid_c=X_valid.copy()\n",
    "    y_valid_c=y_valid.copy()\n",
    "\n",
    "\n",
    "    conf_mat, f1sc, accsc = walk_forward_validation(sv, X_train_c, y_train_c, X_valid_c, y_valid_c)\n",
    "    print (\"Grado aplicado: \" + str(grado))\n",
    "    print(conf_mat, f1sc, accsc)"
   ]
  },
  {
   "cell_type": "code",
   "execution_count": 29,
   "metadata": {},
   "outputs": [
    {
     "name": "stdout",
     "output_type": "stream",
     "text": [
      "Maxima profundidad aplicada: 1\n",
      "[[  4 168]\n",
      " [  6 157]] 0.6434426229508197 0.48059701492537316\n",
      "Maxima profundidad aplicada: 2\n",
      "[[  4 168]\n",
      " [  9 154]] 0.6350515463917525 0.4716417910447761\n",
      "Maxima profundidad aplicada: 3\n",
      "[[ 13 159]\n",
      " [ 18 145]] 0.6209850107066381 0.4716417910447761\n",
      "Maxima profundidad aplicada: 4\n",
      "[[ 25 147]\n",
      " [ 27 136]] 0.6098654708520179 0.48059701492537316\n",
      "Maxima profundidad aplicada: 5\n",
      "[[ 49 123]\n",
      " [ 45 118]] 0.5841584158415841 0.49850746268656715\n",
      "Maxima profundidad aplicada: 6\n",
      "[[ 40 132]\n",
      " [ 43 120]] 0.5783132530120482 0.47761194029850745\n",
      "Maxima profundidad aplicada: 7\n",
      "[[ 52 120]\n",
      " [ 61 102]] 0.5298701298701299 0.4597014925373134\n",
      "Maxima profundidad aplicada: 8\n",
      "[[ 65 107]\n",
      " [ 71  92]] 0.5082872928176795 0.46865671641791046\n",
      "Maxima profundidad aplicada: 9\n",
      "[[ 55 117]\n",
      " [ 71  92]] 0.4946236559139785 0.4388059701492537\n",
      "Maxima profundidad aplicada: 10\n",
      "[[ 59 113]\n",
      " [ 70  93]] 0.5040650406504066 0.4537313432835821\n",
      "Maxima profundidad aplicada: 11\n",
      "[[ 72 100]\n",
      " [ 77  86]] 0.49283667621776506 0.4716417910447761\n",
      "Maxima profundidad aplicada: 12\n",
      "[[ 69 103]\n",
      " [ 72  91]] 0.5098039215686275 0.47761194029850745\n",
      "Maxima profundidad aplicada: 13\n",
      "[[76 96]\n",
      " [66 97]] 0.544943820224719 0.5164179104477612\n",
      "Maxima profundidad aplicada: 14\n",
      "[[86 86]\n",
      " [81 82]] 0.4954682779456193 0.5014925373134328\n",
      "Maxima profundidad aplicada: 15\n",
      "[[73 99]\n",
      " [78 85]] 0.4899135446685879 0.4716417910447761\n",
      "Maxima profundidad aplicada: 16\n",
      "[[78 94]\n",
      " [76 87]] 0.5058139534883721 0.4925373134328358\n",
      "Maxima profundidad aplicada: 17\n",
      "[[77 95]\n",
      " [80 83]] 0.48680351906158353 0.47761194029850745\n",
      "Maxima profundidad aplicada: 18\n",
      "[[84 88]\n",
      " [69 94]] 0.5449275362318841 0.5313432835820896\n",
      "Maxima profundidad aplicada: 19\n",
      "[[82 90]\n",
      " [73 90]] 0.5247813411078718 0.5134328358208955\n",
      "Maxima profundidad aplicada: 20\n",
      "[[79 93]\n",
      " [71 92]] 0.5287356321839081 0.5104477611940299\n",
      "Maxima profundidad aplicada: 21\n",
      "[[83 89]\n",
      " [73 90]] 0.5263157894736843 0.5164179104477612\n",
      "Maxima profundidad aplicada: 22\n",
      "[[79 93]\n",
      " [77 86]] 0.5029239766081872 0.4925373134328358\n",
      "Maxima profundidad aplicada: 23\n",
      "[[82 90]\n",
      " [69 94]] 0.5417867435158502 0.5253731343283582\n",
      "Maxima profundidad aplicada: 24\n",
      "[[79 93]\n",
      " [72 91]] 0.5244956772334294 0.5074626865671642\n",
      "Maxima profundidad aplicada: 25\n",
      "[[81 91]\n",
      " [74 89]] 0.5189504373177842 0.5074626865671642\n",
      "Maxima profundidad aplicada: 26\n",
      "[[84 88]\n",
      " [74 89]] 0.5235294117647058 0.5164179104477612\n",
      "Maxima profundidad aplicada: 27\n",
      "[[81 91]\n",
      " [75 88]] 0.5146198830409356 0.5044776119402985\n",
      "Maxima profundidad aplicada: 28\n",
      "[[86 86]\n",
      " [70 93]] 0.5438596491228069 0.5343283582089552\n",
      "Maxima profundidad aplicada: 29\n",
      "[[81 91]\n",
      " [71 92]] 0.5317919075144508 0.5164179104477612\n",
      "Maxima profundidad aplicada: 30\n",
      "[[78 94]\n",
      " [78 85]] 0.49707602339181284 0.48656716417910445\n"
     ]
    }
   ],
   "source": [
    "for profund in range(1,31):\n",
    "    dt = DecisionTreeClassifier(max_depth=profund)\n",
    "    \n",
    "    X_train_c=X_train.copy()\n",
    "    y_train_c=y_train.copy()\n",
    "    X_valid_c=X_valid.copy()\n",
    "    y_valid_c=y_valid.copy()\n",
    "\n",
    "\n",
    "    conf_mat, f1sc, accsc = walk_forward_validation(dt, X_train_c, y_train_c, X_valid_c, y_valid_c)\n",
    "    print (\"Maxima profundidad aplicada: \" + str(profund))\n",
    "    print(conf_mat, f1sc, accsc)"
   ]
  },
  {
   "cell_type": "code",
   "execution_count": 45,
   "metadata": {},
   "outputs": [
    {
     "name": "stdout",
     "output_type": "stream",
     "text": [
      "Estimadores aplicados: 1\n",
      "[[  4 168]\n",
      " [  6 157]] 0.6434426229508197 0.48059701492537316\n",
      "Estimadores aplicados: 2\n",
      "[[  7 165]\n",
      " [ 10 153]] 0.6361746361746361 0.47761194029850745\n",
      "Estimadores aplicados: 3\n",
      "[[ 16 156]\n",
      " [ 16 147]] 0.630901287553648 0.48656716417910445\n",
      "Estimadores aplicados: 4\n",
      "[[ 16 156]\n",
      " [ 15 148]] 0.6338329764453962 0.48955223880597015\n",
      "Estimadores aplicados: 5\n",
      "[[ 26 146]\n",
      " [ 28 135]] 0.6081081081081081 0.48059701492537316\n",
      "Estimadores aplicados: 6\n",
      "[[ 43 129]\n",
      " [ 41 122]] 0.5893719806763285 0.4925373134328358\n",
      "Estimadores aplicados: 7\n",
      "[[ 46 126]\n",
      " [ 45 118]] 0.5798525798525799 0.48955223880597015\n",
      "Estimadores aplicados: 8\n",
      "[[ 53 119]\n",
      " [ 57 106]] 0.5463917525773195 0.4746268656716418\n",
      "Estimadores aplicados: 9\n",
      "[[ 53 119]\n",
      " [ 52 111]] 0.5648854961832062 0.48955223880597015\n",
      "Estimadores aplicados: 10\n",
      "[[ 59 113]\n",
      " [ 56 107]] 0.5587467362924282 0.4955223880597015\n",
      "Estimadores aplicados: 11\n",
      "[[ 51 121]\n",
      " [ 54 109]] 0.55470737913486 0.47761194029850745\n",
      "Estimadores aplicados: 12\n",
      "[[ 56 116]\n",
      " [ 53 110]] 0.5655526992287917 0.4955223880597015\n",
      "Estimadores aplicados: 13\n",
      "[[ 57 115]\n",
      " [ 55 108]] 0.5595854922279793 0.4925373134328358\n",
      "Estimadores aplicados: 14\n",
      "[[ 59 113]\n",
      " [ 56 107]] 0.5587467362924282 0.4955223880597015\n",
      "Estimadores aplicados: 15\n",
      "[[ 59 113]\n",
      " [ 54 109]] 0.5662337662337662 0.5014925373134328\n",
      "Estimadores aplicados: 16\n",
      "[[ 68 104]\n",
      " [ 53 110]] 0.5835543766578248 0.5313432835820896\n",
      "Estimadores aplicados: 17\n",
      "[[ 60 112]\n",
      " [ 58 105]] 0.5526315789473685 0.4925373134328358\n",
      "Estimadores aplicados: 18\n",
      "[[ 57 115]\n",
      " [ 54 109]] 0.5633074935400516 0.4955223880597015\n",
      "Estimadores aplicados: 19\n",
      "[[ 62 110]\n",
      " [ 59 104]] 0.5517241379310346 0.4955223880597015\n",
      "Estimadores aplicados: 20\n",
      "[[ 62 110]\n",
      " [ 55 108]] 0.5669291338582678 0.5074626865671642\n"
     ]
    }
   ],
   "source": [
    "for estimadores in range(1,21):\n",
    "    adab = AdaBoostClassifier(n_estimators=estimadores)\n",
    "    \n",
    "    X_train_c=X_train.copy()\n",
    "    y_train_c=y_train.copy()\n",
    "    X_valid_c=X_valid.copy()\n",
    "    y_valid_c=y_valid.copy()\n",
    "\n",
    "\n",
    "    conf_mat, f1sc, accsc = walk_forward_validation(adab, X_train_c, y_train_c, X_valid_c, y_valid_c)\n",
    "    print (\"Estimadores aplicados: \" + str(estimadores))\n",
    "    print(conf_mat, f1sc, accsc)"
   ]
  },
  {
   "cell_type": "code",
   "execution_count": null,
   "metadata": {},
   "outputs": [],
   "source": []
  },
  {
   "cell_type": "code",
   "execution_count": 31,
   "metadata": {},
   "outputs": [
    {
     "data": {
      "text/plain": [
       "(array([[609, 141],\n",
       "        [ 69, 855]], dtype=int64),\n",
       " 0.890625,\n",
       " 0.8745519713261649)"
      ]
     },
     "execution_count": 31,
     "metadata": {},
     "output_type": "execute_result"
    }
   ],
   "source": [
    "dt = DecisionTreeClassifier(max_depth=13)\n",
    "\n",
    "X_train_c=X_train.append(X_valid)\n",
    "y_train_c=y_train.append(y_valid)\n",
    "\n",
    "X_train_c=ct.fit_transform(X_train_c)\n",
    "dt.fit(X_train_c,y_train_c)\n",
    "y_predict=dt.predict(X_train_c)\n",
    "\n",
    "(metrics.confusion_matrix(y_train_c, y_predict), metrics.f1_score(y_train_c,y_predict), metrics.accuracy_score(y_train_c,y_predict))"
   ]
  },
  {
   "cell_type": "code",
   "execution_count": 32,
   "metadata": {},
   "outputs": [
    {
     "data": {
      "text/plain": [
       "(array([[743,   7],\n",
       "        [ 11, 913]], dtype=int64),\n",
       " 0.990238611713666,\n",
       " 0.989247311827957)"
      ]
     },
     "execution_count": 32,
     "metadata": {},
     "output_type": "execute_result"
    }
   ],
   "source": [
    "dt = DecisionTreeClassifier(max_depth=18)\n",
    "\n",
    "X_train_c=X_train.append(X_valid)\n",
    "y_train_c=y_train.append(y_valid)\n",
    "\n",
    "X_train_c=ct.fit_transform(X_train_c)\n",
    "dt.fit(X_train_c,y_train_c)\n",
    "y_predict=dt.predict(X_train_c)\n",
    "\n",
    "(metrics.confusion_matrix(y_train_c, y_predict), metrics.f1_score(y_train_c,y_predict), metrics.accuracy_score(y_train_c,y_predict))"
   ]
  },
  {
   "cell_type": "code",
   "execution_count": 29,
   "metadata": {},
   "outputs": [
    {
     "data": {
      "text/plain": [
       "(array([[750,   0],\n",
       "        [  0, 924]]),\n",
       " 1.0,\n",
       " 1.0)"
      ]
     },
     "execution_count": 29,
     "metadata": {},
     "output_type": "execute_result"
    }
   ],
   "source": [
    "kn = KNeighborsClassifier(n_neighbors=1)\n",
    "\n",
    "X_train_c=X_train.append(X_valid)\n",
    "y_train_c=y_train.append(y_valid)\n",
    "\n",
    "X_train_c=ct.fit_transform(X_train_c)\n",
    "kn.fit(X_train_c,y_train_c)\n",
    "y_predict=kn.predict(X_train_c)\n",
    "\n",
    "(metrics.confusion_matrix(y_train_c, y_predict), metrics.f1_score(y_train_c,y_predict), metrics.accuracy_score(y_train_c,y_predict))"
   ]
  },
  {
   "cell_type": "code",
   "execution_count": 30,
   "metadata": {},
   "outputs": [
    {
     "data": {
      "text/plain": [
       "(array([[367, 383],\n",
       "        [223, 701]]),\n",
       " 0.6982071713147411,\n",
       " 0.6379928315412187)"
      ]
     },
     "execution_count": 30,
     "metadata": {},
     "output_type": "execute_result"
    }
   ],
   "source": [
    "lr = LogisticRegression(penalty='l2', solver='lbfgs')\n",
    "\n",
    "X_train_c=X_train.append(X_valid)\n",
    "y_train_c=y_train.append(y_valid)\n",
    "\n",
    "X_train_c=ct.fit_transform(X_train_c)\n",
    "lr.fit(X_train_c,y_train_c)\n",
    "y_predict=lr.predict(X_train_c)\n",
    "\n",
    "(metrics.confusion_matrix(y_train_c, y_predict), metrics.f1_score(y_train_c,y_predict), metrics.accuracy_score(y_train_c,y_predict))"
   ]
  },
  {
   "cell_type": "code",
   "execution_count": null,
   "metadata": {},
   "outputs": [],
   "source": []
  },
  {
   "cell_type": "code",
   "execution_count": 44,
   "metadata": {},
   "outputs": [
    {
     "name": "stdout",
     "output_type": "stream",
     "text": [
      "[[ 77 111]\n",
      " [ 95 136]] 0.5690376569037658 0.5083532219570406\n"
     ]
    }
   ],
   "source": [
    "#Este es el código para ver cómo funciona el modelo de verdad\n",
    "\n",
    "kn = KNeighborsClassifier(n_neighbors=1)\n",
    "\n",
    "X_train_c=X_train.append(X_valid)\n",
    "y_train_c=y_train.append(y_valid)\n",
    "X_test_c=X_test.copy()\n",
    "y_test_c=y_test.copy()\n",
    "\n",
    "conf_mat, f1sc, accsc = walk_forward_validation(kn, X_train_c, y_train_c, X_test_c, y_test_c)\n",
    "\n",
    "print(conf_mat, f1sc, accsc)"
   ]
  },
  {
   "cell_type": "code",
   "execution_count": 46,
   "metadata": {},
   "outputs": [
    {
     "name": "stdout",
     "output_type": "stream",
     "text": [
      "[[ 58 130]\n",
      " [ 74 157]] 0.6061776061776062 0.513126491646778\n"
     ]
    }
   ],
   "source": [
    "#Este es el código para ver cómo funciona el modelo de verdad\n",
    "\n",
    "adab = AdaBoostClassifier(n_estimators=16)\n",
    "\n",
    "X_train_c=X_train.append(X_valid)\n",
    "y_train_c=y_train.append(y_valid)\n",
    "X_test_c=X_test.copy()\n",
    "y_test_c=y_test.copy()\n",
    "\n",
    "conf_mat, f1sc, accsc = walk_forward_validation(adab, X_train_c, y_train_c, X_test_c, y_test_c)\n",
    "\n",
    "print(conf_mat, f1sc, accsc)"
   ]
  },
  {
   "cell_type": "code",
   "execution_count": null,
   "metadata": {},
   "outputs": [],
   "source": []
  }
 ],
 "metadata": {
  "kernelspec": {
   "display_name": "Python 3",
   "language": "python",
   "name": "python3"
  },
  "language_info": {
   "codemirror_mode": {
    "name": "ipython",
    "version": 3
   },
   "file_extension": ".py",
   "mimetype": "text/x-python",
   "name": "python",
   "nbconvert_exporter": "python",
   "pygments_lexer": "ipython3",
   "version": "3.8.5"
  }
 },
 "nbformat": 4,
 "nbformat_minor": 4
}
