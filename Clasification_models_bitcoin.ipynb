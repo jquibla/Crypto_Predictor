{
 "cells": [
  {
   "cell_type": "code",
   "execution_count": 48,
   "metadata": {},
   "outputs": [],
   "source": [
    "import pandas as pd\n",
    "import numpy as np\n",
    "from sklearn import metrics\n",
    "\n",
    "from sklearn.model_selection import train_test_split\n",
    "from datetime import datetime\n",
    "from sklearn.pipeline import Pipeline\n",
    "from sklearn.preprocessing import OneHotEncoder\n",
    "\n",
    "from sklearn.compose import ColumnTransformer\n",
    "from sklearn.preprocessing import StandardScaler\n",
    "\n",
    "from sklearn.linear_model import LogisticRegression\n",
    "from sklearn.tree import DecisionTreeClassifier\n",
    "from sklearn.svm import SVC\n",
    "from sklearn.naive_bayes import GaussianNB\n",
    "from sklearn.neighbors import KNeighborsClassifier\n",
    "from sklearn.ensemble import AdaBoostClassifier\n",
    "\n",
    "import numbers\n",
    "from sklearn import model_selection\n"
   ]
  },
  {
   "cell_type": "code",
   "execution_count": 49,
   "metadata": {},
   "outputs": [],
   "source": [
    "# Aquí, a futuro, habría que añadir los datos del Nasdaq, oro y/o Ethereum para ver los resultados\n",
    "data_for_use = pd.read_csv('./bitcoin_data_for_use_v2.csv', index_col=0)\n",
    "data_gold = pd.read_csv('./gold_data_for_use.csv', index_col=0)\n",
    "data_nasdaq = pd.read_csv('./nasdaq_data_for_use.csv', index_col=0)\n",
    "\n",
    "data_for_use_w_gold = data_for_use.merge(data_gold, left_index=True, right_index=True)\n",
    "data_for_use_w_nasdaq = data_for_use.merge(data_nasdaq, left_index=True, right_index=True)\n",
    "\n",
    "data_for_use_w_all = data_for_use_w_gold.merge(data_nasdaq, left_index=True, right_index=True)\n",
    "\n",
    "\n",
    "\n"
   ]
  },
  {
   "cell_type": "code",
   "execution_count": 50,
   "metadata": {},
   "outputs": [],
   "source": [
    "#aqui se marca lo que se va a usar de verdad para el resto del programa\n",
    "data_for_use = data_for_use_w_gold"
   ]
  },
  {
   "cell_type": "code",
   "execution_count": 51,
   "metadata": {},
   "outputs": [],
   "source": [
    "# Partimos los datos en train y test por fechas, sin que sea aleatorio, que es como funcionaría\n",
    "# en la realidad el modelo\n",
    "data_no_test, data_test = train_test_split(data_for_use, shuffle=False, test_size=0.2)\n",
    "\n",
    "# Partimos los datos de train nuevamente en validation y train\n",
    "data_train, data_valid = train_test_split(data_no_test, shuffle=False, test_size=0.2)"
   ]
  },
  {
   "cell_type": "code",
   "execution_count": 52,
   "metadata": {},
   "outputs": [],
   "source": [
    "# Separamos la variable que queremos predecir\n",
    "X_train=data_train.drop(labels=['subida'], axis=1)\n",
    "y_train=data_train['subida']\n",
    "\n",
    "X_valid=data_valid.drop(labels=['subida'], axis=1)\n",
    "y_valid=data_valid['subida']\n",
    "\n",
    "X_test=data_test.drop(labels=['subida'], axis=1)\n",
    "y_test=data_test['subida']"
   ]
  },
  {
   "cell_type": "code",
   "execution_count": 53,
   "metadata": {},
   "outputs": [
    {
     "data": {
      "text/plain": [
       "0.5683345780433159"
      ]
     },
     "execution_count": 53,
     "metadata": {},
     "output_type": "execute_result"
    }
   ],
   "source": [
    "# Miramos cuántos días sube el bitcoin sobre el total en cada uno de los segmentos\n",
    "# esto nos servirá para hacernos una idea de cómo de buenos son los resultados de los modelos\n",
    "y_train.sum()/y_train.size"
   ]
  },
  {
   "cell_type": "code",
   "execution_count": 54,
   "metadata": {},
   "outputs": [
    {
     "data": {
      "text/plain": [
       "0.48656716417910445"
      ]
     },
     "execution_count": 54,
     "metadata": {},
     "output_type": "execute_result"
    }
   ],
   "source": [
    "y_valid.sum()/y_valid.size"
   ]
  },
  {
   "cell_type": "code",
   "execution_count": 55,
   "metadata": {},
   "outputs": [
    {
     "data": {
      "text/plain": [
       "0.5513126491646778"
      ]
     },
     "execution_count": 55,
     "metadata": {},
     "output_type": "execute_result"
    }
   ],
   "source": [
    "y_test.sum()/y_test.size"
   ]
  },
  {
   "cell_type": "code",
   "execution_count": 56,
   "metadata": {},
   "outputs": [],
   "source": [
    "#Tenemos que hacer one-hot encoding sobre la columna \"dia\"\n",
    "#Sobre el resto aplicamos el standardscaler\n",
    "\n",
    "number_columns = data_for_use.select_dtypes('number').columns\n",
    "\n",
    "t=[('dia', \n",
    "    OneHotEncoder(handle_unknown='ignore'),\n",
    "    ['dia'])\n",
    "    ,('scaler', StandardScaler(),number_columns)\n",
    "    ]\n",
    "\n",
    "ct = ColumnTransformer(transformers=t, remainder='passthrough')\n",
    "\n",
    "#data_for_use_t=ct.fit_transform(data_for_use)\n",
    "\n",
    "#X_train=ct.fit_transform(X_train)\n",
    "#X_valid=ct.transform(X_valid)\n",
    "#X_test=ct.transform(X_test)"
   ]
  },
  {
   "cell_type": "code",
   "execution_count": 57,
   "metadata": {},
   "outputs": [],
   "source": [
    "def walk_forward_validation (model, X_train_wfv, y_train_wfv, X_test_wfv, y_test_wfv):\n",
    "    y_pred_wfv = list()\n",
    "    for i in range(len(y_test_wfv)):\n",
    "        X_train_wfv_ct=ct.fit_transform(X_train_wfv)\n",
    "        model.fit(X_train_wfv_ct, y_train_wfv)\n",
    "        X_test_wfv_ct=ct.transform(X_test_wfv)\n",
    "        y_pred_next = model.predict(X_test_wfv_ct[i:i+1])\n",
    "        y_pred_wfv.append(y_pred_next[0])\n",
    "        X_train_wfv=X_train_wfv.append(X_test_wfv[i:i+1])\n",
    "        y_train_wfv=y_train_wfv.append(pd.Series(y_test_wfv[i]))\n",
    "    \n",
    "    return metrics.confusion_matrix(y_test_wfv, y_pred_wfv), metrics.f1_score(y_test_wfv,y_pred_wfv), metrics.accuracy_score(y_test_wfv,y_pred_wfv)\n",
    "        \n",
    "        "
   ]
  },
  {
   "cell_type": "code",
   "execution_count": 44,
   "metadata": {},
   "outputs": [],
   "source": [
    "lr = LogisticRegression(penalty='l2', solver='lbfgs')\n",
    "\n",
    "X_train_c=X_train.copy()\n",
    "y_train_c=y_train.copy()\n",
    "X_valid_c=X_valid.copy()\n",
    "y_valid_c=y_valid.copy()\n",
    "\n",
    "\n",
    "conf_mat, f1sc, accsc = walk_forward_validation(lr, X_train_c, y_train_c, X_valid_c, y_valid_c)"
   ]
  },
  {
   "cell_type": "code",
   "execution_count": 45,
   "metadata": {},
   "outputs": [
    {
     "name": "stdout",
     "output_type": "stream",
     "text": [
      "[[ 69 103]\n",
      " [ 80  83]] 0.4756446991404011 0.4537313432835821\n"
     ]
    }
   ],
   "source": [
    "print(conf_mat, f1sc, accsc)"
   ]
  },
  {
   "cell_type": "code",
   "execution_count": 46,
   "metadata": {},
   "outputs": [
    {
     "name": "stdout",
     "output_type": "stream",
     "text": [
      "Numero de vecinos aplicado: 1\n",
      "[[76 96]\n",
      " [80 83]] 0.4853801169590643 0.4746268656716418\n",
      "Numero de vecinos aplicado: 2\n",
      "[[119  53]\n",
      " [125  38]] 0.2992125984251968 0.46865671641791046\n",
      "Numero de vecinos aplicado: 3\n",
      "[[ 63 109]\n",
      " [ 74  89]] 0.49307479224376727 0.4537313432835821\n",
      "Numero de vecinos aplicado: 4\n",
      "[[100  72]\n",
      " [107  56]] 0.3848797250859107 0.46567164179104475\n",
      "Numero de vecinos aplicado: 5\n",
      "[[ 60 112]\n",
      " [ 65  98]] 0.5254691689008043 0.4716417910447761\n",
      "Numero de vecinos aplicado: 6\n",
      "[[84 88]\n",
      " [97 66]] 0.416403785488959 0.44776119402985076\n",
      "Numero de vecinos aplicado: 7\n",
      "[[ 57 115]\n",
      " [ 71  92]] 0.4972972972972972 0.44477611940298506\n",
      "Numero de vecinos aplicado: 8\n",
      "[[78 94]\n",
      " [92 71]] 0.4329268292682926 0.44477611940298506\n",
      "Numero de vecinos aplicado: 9\n",
      "[[ 52 120]\n",
      " [ 71  92]] 0.49066666666666664 0.4298507462686567\n",
      "Numero de vecinos aplicado: 10\n",
      "[[ 68 104]\n",
      " [ 93  70]] 0.4154302670623145 0.41194029850746267\n",
      "Numero de vecinos aplicado: 11\n",
      "[[ 47 125]\n",
      " [ 69  94]] 0.49214659685863876 0.4208955223880597\n",
      "Numero de vecinos aplicado: 12\n",
      "[[ 62 110]\n",
      " [ 88  75]] 0.4310344827586207 0.408955223880597\n",
      "Numero de vecinos aplicado: 13\n",
      "[[ 39 133]\n",
      " [ 61 102]] 0.5125628140703518 0.4208955223880597\n",
      "Numero de vecinos aplicado: 14\n",
      "[[ 60 112]\n",
      " [ 77  86]] 0.47645429362880887 0.43582089552238806\n",
      "Numero de vecinos aplicado: 15\n",
      "[[ 36 136]\n",
      " [ 51 112]] 0.5450121654501217 0.4417910447761194\n",
      "Numero de vecinos aplicado: 16\n",
      "[[ 43 129]\n",
      " [ 65  98]] 0.5025641025641027 0.4208955223880597\n",
      "Numero de vecinos aplicado: 17\n",
      "[[ 33 139]\n",
      " [ 44 119]] 0.5653206650831354 0.4537313432835821\n",
      "Numero de vecinos aplicado: 18\n",
      "[[ 46 126]\n",
      " [ 66  97]] 0.5025906735751295 0.42686567164179107\n",
      "Numero de vecinos aplicado: 19\n",
      "[[ 32 140]\n",
      " [ 46 117]] 0.5571428571428572 0.44477611940298506\n",
      "Numero de vecinos aplicado: 20\n",
      "[[ 41 131]\n",
      " [ 68  95]] 0.4884318766066838 0.4059701492537313\n",
      "Numero de vecinos aplicado: 21\n",
      "[[ 26 146]\n",
      " [ 42 121]] 0.5627906976744186 0.4388059701492537\n",
      "Numero de vecinos aplicado: 22\n",
      "[[ 42 130]\n",
      " [ 60 103]] 0.5202020202020202 0.43283582089552236\n",
      "Numero de vecinos aplicado: 23\n",
      "[[ 28 144]\n",
      " [ 39 124]] 0.5754060324825986 0.4537313432835821\n",
      "Numero de vecinos aplicado: 24\n",
      "[[ 43 129]\n",
      " [ 53 110]] 0.5472636815920398 0.45671641791044776\n",
      "Numero de vecinos aplicado: 25\n",
      "[[ 30 142]\n",
      " [ 36 127]] 0.587962962962963 0.46865671641791046\n",
      "Numero de vecinos aplicado: 26\n",
      "[[ 42 130]\n",
      " [ 51 112]] 0.5530864197530865 0.4597014925373134\n",
      "Numero de vecinos aplicado: 27\n",
      "[[ 27 145]\n",
      " [ 35 128]] 0.5871559633027523 0.4626865671641791\n",
      "Numero de vecinos aplicado: 28\n",
      "[[ 38 134]\n",
      " [ 44 119]] 0.5721153846153847 0.46865671641791046\n",
      "Numero de vecinos aplicado: 29\n",
      "[[ 25 147]\n",
      " [ 33 130]] 0.5909090909090909 0.4626865671641791\n",
      "Numero de vecinos aplicado: 30\n",
      "[[ 37 135]\n",
      " [ 41 122]] 0.5809523809523809 0.4746268656716418\n"
     ]
    }
   ],
   "source": [
    "for vecinos in range(1,31):\n",
    "    kn = KNeighborsClassifier(n_neighbors=vecinos)\n",
    "    \n",
    "    X_train_c=X_train.copy()\n",
    "    y_train_c=y_train.copy()\n",
    "    X_valid_c=X_valid.copy()\n",
    "    y_valid_c=y_valid.copy()\n",
    "\n",
    "\n",
    "    conf_mat, f1sc, accsc = walk_forward_validation(kn, X_train_c, y_train_c, X_valid_c, y_valid_c)\n",
    "    print (\"Numero de vecinos aplicado: \" + str(vecinos))\n",
    "    print(conf_mat, f1sc, accsc)"
   ]
  },
  {
   "cell_type": "code",
   "execution_count": 60,
   "metadata": {},
   "outputs": [
    {
     "name": "stdout",
     "output_type": "stream",
     "text": [
      "Grado aplicado: 1\n",
      "[[ 50 122]\n",
      " [ 56 107]] 0.5459183673469387 0.46865671641791046\n",
      "Grado aplicado: 2\n",
      "[[ 21 151]\n",
      " [ 28 135]] 0.6013363028953229 0.46567164179104475\n",
      "Grado aplicado: 3\n",
      "[[  7 165]\n",
      " [ 10 153]] 0.6361746361746361 0.47761194029850745\n"
     ]
    }
   ],
   "source": [
    "for grado in range(1,4):\n",
    "    sv = SVC(probability=True, kernel='poly', degree=grado)\n",
    "    \n",
    "    X_train_c=X_train.copy()\n",
    "    y_train_c=y_train.copy()\n",
    "    X_valid_c=X_valid.copy()\n",
    "    y_valid_c=y_valid.copy()\n",
    "\n",
    "\n",
    "    conf_mat, f1sc, accsc = walk_forward_validation(sv, X_train_c, y_train_c, X_valid_c, y_valid_c)\n",
    "    print (\"Grado aplicado: \" + str(grado))\n",
    "    print(conf_mat, f1sc, accsc)"
   ]
  },
  {
   "cell_type": "code",
   "execution_count": 61,
   "metadata": {},
   "outputs": [
    {
     "name": "stdout",
     "output_type": "stream",
     "text": [
      "Maxima profundidad aplicada: 1\n",
      "[[  4 168]\n",
      " [  6 157]] 0.6434426229508197 0.48059701492537316\n",
      "Maxima profundidad aplicada: 2\n",
      "[[  4 168]\n",
      " [  8 155]] 0.6378600823045267 0.4746268656716418\n",
      "Maxima profundidad aplicada: 3\n",
      "[[ 15 157]\n",
      " [ 19 144]] 0.6206896551724138 0.4746268656716418\n",
      "Maxima profundidad aplicada: 4\n",
      "[[ 23 149]\n",
      " [ 29 134]] 0.6008968609865472 0.46865671641791046\n",
      "Maxima profundidad aplicada: 5\n",
      "[[ 30 142]\n",
      " [ 37 126]] 0.5846867749419955 0.46567164179104475\n",
      "Maxima profundidad aplicada: 6\n",
      "[[ 35 137]\n",
      " [ 41 122]] 0.5781990521327014 0.46865671641791046\n",
      "Maxima profundidad aplicada: 7\n",
      "[[ 37 135]\n",
      " [ 46 117]] 0.563855421686747 0.4597014925373134\n",
      "Maxima profundidad aplicada: 8\n",
      "[[ 54 118]\n",
      " [ 63 100]] 0.5249343832020998 0.4597014925373134\n",
      "Maxima profundidad aplicada: 9\n",
      "[[ 57 115]\n",
      " [ 65  98]] 0.5212765957446808 0.4626865671641791\n",
      "Maxima profundidad aplicada: 10\n",
      "[[ 59 113]\n",
      " [ 64  99]] 0.5279999999999999 0.4716417910447761\n",
      "Maxima profundidad aplicada: 11\n",
      "[[ 63 109]\n",
      " [ 64  99]] 0.5336927223719677 0.4835820895522388\n",
      "Maxima profundidad aplicada: 12\n",
      "[[ 59 113]\n",
      " [ 66  97]] 0.5201072386058981 0.46567164179104475\n",
      "Maxima profundidad aplicada: 13\n",
      "[[ 63 109]\n",
      " [ 75  88]] 0.48888888888888893 0.4507462686567164\n",
      "Maxima profundidad aplicada: 14\n",
      "[[ 68 104]\n",
      " [ 70  93]] 0.5166666666666667 0.48059701492537316\n",
      "Maxima profundidad aplicada: 15\n",
      "[[73 99]\n",
      " [75 88]] 0.5028571428571428 0.48059701492537316\n",
      "Maxima profundidad aplicada: 16\n",
      "[[79 93]\n",
      " [70 93]] 0.5329512893982808 0.5134328358208955\n",
      "Maxima profundidad aplicada: 17\n",
      "[[ 72 100]\n",
      " [ 67  96]] 0.5348189415041783 0.5014925373134328\n",
      "Maxima profundidad aplicada: 18\n",
      "[[ 72 100]\n",
      " [ 70  93]] 0.5224719101123596 0.4925373134328358\n",
      "Maxima profundidad aplicada: 19\n",
      "[[74 98]\n",
      " [68 95]] 0.5337078651685393 0.5044776119402985\n",
      "Maxima profundidad aplicada: 20\n",
      "[[75 97]\n",
      " [64 99]] 0.5515320334261838 0.5194029850746269\n",
      "Maxima profundidad aplicada: 21\n",
      "[[76 96]\n",
      " [71 92]] 0.5242165242165242 0.5014925373134328\n",
      "Maxima profundidad aplicada: 22\n",
      "[[73 99]\n",
      " [66 97]] 0.5403899721448469 0.5074626865671642\n",
      "Maxima profundidad aplicada: 23\n",
      "[[76 96]\n",
      " [68 95]] 0.5367231638418078 0.5104477611940299\n",
      "Maxima profundidad aplicada: 24\n",
      "[[ 71 101]\n",
      " [ 70  93]] 0.5210084033613445 0.48955223880597015\n",
      "Maxima profundidad aplicada: 25\n",
      "[[ 72 100]\n",
      " [ 68  95]] 0.5307262569832402 0.49850746268656715\n",
      "Maxima profundidad aplicada: 26\n",
      "[[ 72 100]\n",
      " [ 71  92]] 0.5183098591549297 0.48955223880597015\n",
      "Maxima profundidad aplicada: 27\n",
      "[[75 97]\n",
      " [71 92]] 0.5227272727272726 0.49850746268656715\n",
      "Maxima profundidad aplicada: 28\n",
      "[[75 97]\n",
      " [68 95]] 0.5352112676056338 0.5074626865671642\n",
      "Maxima profundidad aplicada: 29\n",
      "[[ 71 101]\n",
      " [ 65  98]] 0.5414364640883977 0.5044776119402985\n",
      "Maxima profundidad aplicada: 30\n",
      "[[74 98]\n",
      " [69 94]] 0.5295774647887324 0.5014925373134328\n"
     ]
    }
   ],
   "source": [
    "for profund in range(1,31):\n",
    "    dt = DecisionTreeClassifier(max_depth=profund)\n",
    "    \n",
    "    X_train_c=X_train.copy()\n",
    "    y_train_c=y_train.copy()\n",
    "    X_valid_c=X_valid.copy()\n",
    "    y_valid_c=y_valid.copy()\n",
    "\n",
    "\n",
    "    conf_mat, f1sc, accsc = walk_forward_validation(dt, X_train_c, y_train_c, X_valid_c, y_valid_c)\n",
    "    print (\"Maxima profundidad aplicada: \" + str(profund))\n",
    "    print(conf_mat, f1sc, accsc)"
   ]
  },
  {
   "cell_type": "code",
   "execution_count": 62,
   "metadata": {},
   "outputs": [
    {
     "name": "stdout",
     "output_type": "stream",
     "text": [
      "Estimadores aplicados: 1\n",
      "[[  4 168]\n",
      " [  6 157]] 0.6434426229508197 0.48059701492537316\n",
      "Estimadores aplicados: 2\n",
      "[[  7 165]\n",
      " [ 10 153]] 0.6361746361746361 0.47761194029850745\n",
      "Estimadores aplicados: 3\n",
      "[[ 16 156]\n",
      " [ 16 147]] 0.630901287553648 0.48656716417910445\n",
      "Estimadores aplicados: 4\n",
      "[[ 16 156]\n",
      " [ 15 148]] 0.6338329764453962 0.48955223880597015\n",
      "Estimadores aplicados: 5\n",
      "[[ 29 143]\n",
      " [ 33 130]] 0.5963302752293578 0.4746268656716418\n",
      "Estimadores aplicados: 6\n",
      "[[ 36 136]\n",
      " [ 32 131]] 0.6093023255813954 0.49850746268656715\n",
      "Estimadores aplicados: 7\n",
      "[[ 43 129]\n",
      " [ 34 129]] 0.6128266033254157 0.5134328358208955\n",
      "Estimadores aplicados: 8\n",
      "[[ 50 122]\n",
      " [ 44 119]] 0.5891089108910892 0.5044776119402985\n",
      "Estimadores aplicados: 9\n",
      "[[ 50 122]\n",
      " [ 44 119]] 0.5891089108910892 0.5044776119402985\n",
      "Estimadores aplicados: 10\n",
      "[[ 50 122]\n",
      " [ 45 118]] 0.5856079404466501 0.5014925373134328\n",
      "Estimadores aplicados: 11\n",
      "[[ 53 119]\n",
      " [ 43 120]] 0.5970149253731343 0.5164179104477612\n",
      "Estimadores aplicados: 12\n",
      "[[ 53 119]\n",
      " [ 39 124]] 0.6108374384236455 0.5283582089552239\n",
      "Estimadores aplicados: 13\n",
      "[[ 57 115]\n",
      " [ 37 126]] 0.6237623762376239 0.5462686567164179\n",
      "Estimadores aplicados: 14\n",
      "[[ 59 113]\n",
      " [ 37 126]] 0.626865671641791 0.5522388059701493\n",
      "Estimadores aplicados: 15\n",
      "[[ 57 115]\n",
      " [ 42 121]] 0.6065162907268171 0.5313432835820896\n",
      "Estimadores aplicados: 16\n",
      "[[ 58 114]\n",
      " [ 44 119]] 0.6010101010101009 0.5283582089552239\n",
      "Estimadores aplicados: 17\n",
      "[[ 57 115]\n",
      " [ 39 124]] 0.6169154228855722 0.5402985074626866\n",
      "Estimadores aplicados: 18\n",
      "[[ 55 117]\n",
      " [ 44 119]] 0.5964912280701754 0.5194029850746269\n",
      "Estimadores aplicados: 19\n",
      "[[ 59 113]\n",
      " [ 48 115]] 0.5882352941176471 0.5194029850746269\n",
      "Estimadores aplicados: 20\n",
      "[[ 60 112]\n",
      " [ 49 114]] 0.5861182519280205 0.5194029850746269\n"
     ]
    }
   ],
   "source": [
    "for estimadores in range(1,21):\n",
    "    adab = AdaBoostClassifier(n_estimators=estimadores)\n",
    "    \n",
    "    X_train_c=X_train.copy()\n",
    "    y_train_c=y_train.copy()\n",
    "    X_valid_c=X_valid.copy()\n",
    "    y_valid_c=y_valid.copy()\n",
    "\n",
    "\n",
    "    conf_mat, f1sc, accsc = walk_forward_validation(adab, X_train_c, y_train_c, X_valid_c, y_valid_c)\n",
    "    print (\"Estimadores aplicados: \" + str(estimadores))\n",
    "    print(conf_mat, f1sc, accsc)"
   ]
  },
  {
   "cell_type": "code",
   "execution_count": 63,
   "metadata": {},
   "outputs": [
    {
     "data": {
      "text/plain": [
       "(array([[718,  32],\n",
       "        [ 24, 900]]),\n",
       " 0.9698275862068965,\n",
       " 0.966547192353644)"
      ]
     },
     "execution_count": 63,
     "metadata": {},
     "output_type": "execute_result"
    }
   ],
   "source": [
    "dt = DecisionTreeClassifier(max_depth=16)\n",
    "\n",
    "X_train_c=X_train.append(X_valid)\n",
    "y_train_c=y_train.append(y_valid)\n",
    "\n",
    "X_train_c=ct.fit_transform(X_train_c)\n",
    "dt.fit(X_train_c,y_train_c)\n",
    "y_predict=dt.predict(X_train_c)\n",
    "\n",
    "(metrics.confusion_matrix(y_train_c, y_predict), metrics.f1_score(y_train_c,y_predict), metrics.accuracy_score(y_train_c,y_predict))"
   ]
  },
  {
   "cell_type": "code",
   "execution_count": 64,
   "metadata": {},
   "outputs": [
    {
     "data": {
      "text/plain": [
       "(array([[748,   2],\n",
       "        [  0, 924]]),\n",
       " 0.9989189189189189,\n",
       " 0.998805256869773)"
      ]
     },
     "execution_count": 64,
     "metadata": {},
     "output_type": "execute_result"
    }
   ],
   "source": [
    "dt = DecisionTreeClassifier(max_depth=20)\n",
    "\n",
    "X_train_c=X_train.append(X_valid)\n",
    "y_train_c=y_train.append(y_valid)\n",
    "\n",
    "X_train_c=ct.fit_transform(X_train_c)\n",
    "dt.fit(X_train_c,y_train_c)\n",
    "y_predict=dt.predict(X_train_c)\n",
    "\n",
    "(metrics.confusion_matrix(y_train_c, y_predict), metrics.f1_score(y_train_c,y_predict), metrics.accuracy_score(y_train_c,y_predict))"
   ]
  },
  {
   "cell_type": "code",
   "execution_count": 66,
   "metadata": {},
   "outputs": [
    {
     "data": {
      "text/plain": [
       "(array([[294, 456],\n",
       "        [185, 739]]),\n",
       " 0.6974988201982067,\n",
       " 0.6170848267622461)"
      ]
     },
     "execution_count": 66,
     "metadata": {},
     "output_type": "execute_result"
    }
   ],
   "source": [
    "adab = AdaBoostClassifier(n_estimators=14)\n",
    "\n",
    "X_train_c=X_train.append(X_valid)\n",
    "y_train_c=y_train.append(y_valid)\n",
    "\n",
    "X_train_c=ct.fit_transform(X_train_c)\n",
    "adab.fit(X_train_c,y_train_c)\n",
    "y_predict=adab.predict(X_train_c)\n",
    "\n",
    "(metrics.confusion_matrix(y_train_c, y_predict), metrics.f1_score(y_train_c,y_predict), metrics.accuracy_score(y_train_c,y_predict))"
   ]
  },
  {
   "cell_type": "code",
   "execution_count": 58,
   "metadata": {},
   "outputs": [
    {
     "data": {
      "text/plain": [
       "(array([[403, 347],\n",
       "        [295, 629]]),\n",
       " 0.6621052631578948,\n",
       " 0.6164874551971327)"
      ]
     },
     "execution_count": 58,
     "metadata": {},
     "output_type": "execute_result"
    }
   ],
   "source": [
    "kn = KNeighborsClassifier(n_neighbors=12)\n",
    "\n",
    "X_train_c=X_train.append(X_valid)\n",
    "y_train_c=y_train.append(y_valid)\n",
    "\n",
    "X_train_c=ct.fit_transform(X_train_c)\n",
    "kn.fit(X_train_c,y_train_c)\n",
    "y_predict=kn.predict(X_train_c)\n",
    "\n",
    "(metrics.confusion_matrix(y_train_c, y_predict), metrics.f1_score(y_train_c,y_predict), metrics.accuracy_score(y_train_c,y_predict))"
   ]
  },
  {
   "cell_type": "code",
   "execution_count": 59,
   "metadata": {},
   "outputs": [
    {
     "data": {
      "text/plain": [
       "(array([[304, 446],\n",
       "        [229, 695]]),\n",
       " 0.6731234866828087,\n",
       " 0.5967741935483871)"
      ]
     },
     "execution_count": 59,
     "metadata": {},
     "output_type": "execute_result"
    }
   ],
   "source": [
    "kn = KNeighborsClassifier(n_neighbors=20)\n",
    "\n",
    "X_train_c=X_train.append(X_valid)\n",
    "y_train_c=y_train.append(y_valid)\n",
    "\n",
    "X_train_c=ct.fit_transform(X_train_c)\n",
    "kn.fit(X_train_c,y_train_c)\n",
    "y_predict=kn.predict(X_train_c)\n",
    "\n",
    "(metrics.confusion_matrix(y_train_c, y_predict), metrics.f1_score(y_train_c,y_predict), metrics.accuracy_score(y_train_c,y_predict))"
   ]
  },
  {
   "cell_type": "code",
   "execution_count": null,
   "metadata": {},
   "outputs": [],
   "source": []
  },
  {
   "cell_type": "code",
   "execution_count": 68,
   "metadata": {},
   "outputs": [
    {
     "ename": "ValueError",
     "evalue": "Input contains NaN, infinity or a value too large for dtype('float64').",
     "output_type": "error",
     "traceback": [
      "\u001b[0;31m---------------------------------------------------------------------------\u001b[0m",
      "\u001b[0;31mValueError\u001b[0m                                Traceback (most recent call last)",
      "\u001b[0;32m<ipython-input-68-d9bfcb2feabc>\u001b[0m in \u001b[0;36m<module>\u001b[0;34m\u001b[0m\n\u001b[1;32m      8\u001b[0m \u001b[0my_test_c\u001b[0m\u001b[0;34m=\u001b[0m\u001b[0my_test\u001b[0m\u001b[0;34m.\u001b[0m\u001b[0mcopy\u001b[0m\u001b[0;34m(\u001b[0m\u001b[0;34m)\u001b[0m\u001b[0;34m\u001b[0m\u001b[0;34m\u001b[0m\u001b[0m\n\u001b[1;32m      9\u001b[0m \u001b[0;34m\u001b[0m\u001b[0m\n\u001b[0;32m---> 10\u001b[0;31m \u001b[0mconf_mat\u001b[0m\u001b[0;34m,\u001b[0m \u001b[0mf1sc\u001b[0m\u001b[0;34m,\u001b[0m \u001b[0maccsc\u001b[0m \u001b[0;34m=\u001b[0m \u001b[0mwalk_forward_validation\u001b[0m\u001b[0;34m(\u001b[0m\u001b[0madab\u001b[0m\u001b[0;34m,\u001b[0m \u001b[0mX_train_c\u001b[0m\u001b[0;34m,\u001b[0m \u001b[0my_train_c\u001b[0m\u001b[0;34m,\u001b[0m \u001b[0mX_test_c\u001b[0m\u001b[0;34m,\u001b[0m \u001b[0my_test_c\u001b[0m\u001b[0;34m)\u001b[0m\u001b[0;34m\u001b[0m\u001b[0;34m\u001b[0m\u001b[0m\n\u001b[0m\u001b[1;32m     11\u001b[0m \u001b[0;34m\u001b[0m\u001b[0m\n\u001b[1;32m     12\u001b[0m \u001b[0mprint\u001b[0m\u001b[0;34m(\u001b[0m\u001b[0mconf_mat\u001b[0m\u001b[0;34m,\u001b[0m \u001b[0mf1sc\u001b[0m\u001b[0;34m,\u001b[0m \u001b[0maccsc\u001b[0m\u001b[0;34m)\u001b[0m\u001b[0;34m\u001b[0m\u001b[0;34m\u001b[0m\u001b[0m\n",
      "\u001b[0;32m<ipython-input-57-c9edb2f8de11>\u001b[0m in \u001b[0;36mwalk_forward_validation\u001b[0;34m(model, X_train_wfv, y_train_wfv, X_test_wfv, y_test_wfv)\u001b[0m\n\u001b[1;32m      5\u001b[0m         \u001b[0mmodel\u001b[0m\u001b[0;34m.\u001b[0m\u001b[0mfit\u001b[0m\u001b[0;34m(\u001b[0m\u001b[0mX_train_wfv_ct\u001b[0m\u001b[0;34m,\u001b[0m \u001b[0my_train_wfv\u001b[0m\u001b[0;34m)\u001b[0m\u001b[0;34m\u001b[0m\u001b[0;34m\u001b[0m\u001b[0m\n\u001b[1;32m      6\u001b[0m         \u001b[0mX_test_wfv_ct\u001b[0m\u001b[0;34m=\u001b[0m\u001b[0mct\u001b[0m\u001b[0;34m.\u001b[0m\u001b[0mtransform\u001b[0m\u001b[0;34m(\u001b[0m\u001b[0mX_test_wfv\u001b[0m\u001b[0;34m)\u001b[0m\u001b[0;34m\u001b[0m\u001b[0;34m\u001b[0m\u001b[0m\n\u001b[0;32m----> 7\u001b[0;31m         \u001b[0my_pred_next\u001b[0m \u001b[0;34m=\u001b[0m \u001b[0mmodel\u001b[0m\u001b[0;34m.\u001b[0m\u001b[0mpredict\u001b[0m\u001b[0;34m(\u001b[0m\u001b[0mX_test_wfv_ct\u001b[0m\u001b[0;34m[\u001b[0m\u001b[0mi\u001b[0m\u001b[0;34m:\u001b[0m\u001b[0mi\u001b[0m\u001b[0;34m+\u001b[0m\u001b[0;36m1\u001b[0m\u001b[0;34m]\u001b[0m\u001b[0;34m)\u001b[0m\u001b[0;34m\u001b[0m\u001b[0;34m\u001b[0m\u001b[0m\n\u001b[0m\u001b[1;32m      8\u001b[0m         \u001b[0my_pred_wfv\u001b[0m\u001b[0;34m.\u001b[0m\u001b[0mappend\u001b[0m\u001b[0;34m(\u001b[0m\u001b[0my_pred_next\u001b[0m\u001b[0;34m[\u001b[0m\u001b[0;36m0\u001b[0m\u001b[0;34m]\u001b[0m\u001b[0;34m)\u001b[0m\u001b[0;34m\u001b[0m\u001b[0;34m\u001b[0m\u001b[0m\n\u001b[1;32m      9\u001b[0m         \u001b[0mX_train_wfv\u001b[0m\u001b[0;34m=\u001b[0m\u001b[0mX_train_wfv\u001b[0m\u001b[0;34m.\u001b[0m\u001b[0mappend\u001b[0m\u001b[0;34m(\u001b[0m\u001b[0mX_test_wfv\u001b[0m\u001b[0;34m[\u001b[0m\u001b[0mi\u001b[0m\u001b[0;34m:\u001b[0m\u001b[0mi\u001b[0m\u001b[0;34m+\u001b[0m\u001b[0;36m1\u001b[0m\u001b[0;34m]\u001b[0m\u001b[0;34m)\u001b[0m\u001b[0;34m\u001b[0m\u001b[0;34m\u001b[0m\u001b[0m\n",
      "\u001b[0;32m~/anaconda3/lib/python3.8/site-packages/sklearn/ensemble/_weight_boosting.py\u001b[0m in \u001b[0;36mpredict\u001b[0;34m(self, X)\u001b[0m\n\u001b[1;32m    629\u001b[0m             \u001b[0mThe\u001b[0m \u001b[0mpredicted\u001b[0m \u001b[0mclasses\u001b[0m\u001b[0;34m.\u001b[0m\u001b[0;34m\u001b[0m\u001b[0;34m\u001b[0m\u001b[0m\n\u001b[1;32m    630\u001b[0m         \"\"\"\n\u001b[0;32m--> 631\u001b[0;31m         \u001b[0mX\u001b[0m \u001b[0;34m=\u001b[0m \u001b[0mself\u001b[0m\u001b[0;34m.\u001b[0m\u001b[0m_check_X\u001b[0m\u001b[0;34m(\u001b[0m\u001b[0mX\u001b[0m\u001b[0;34m)\u001b[0m\u001b[0;34m\u001b[0m\u001b[0;34m\u001b[0m\u001b[0m\n\u001b[0m\u001b[1;32m    632\u001b[0m \u001b[0;34m\u001b[0m\u001b[0m\n\u001b[1;32m    633\u001b[0m         \u001b[0mpred\u001b[0m \u001b[0;34m=\u001b[0m \u001b[0mself\u001b[0m\u001b[0;34m.\u001b[0m\u001b[0mdecision_function\u001b[0m\u001b[0;34m(\u001b[0m\u001b[0mX\u001b[0m\u001b[0;34m)\u001b[0m\u001b[0;34m\u001b[0m\u001b[0;34m\u001b[0m\u001b[0m\n",
      "\u001b[0;32m~/anaconda3/lib/python3.8/site-packages/sklearn/ensemble/_weight_boosting.py\u001b[0m in \u001b[0;36m_check_X\u001b[0;34m(self, X)\u001b[0m\n\u001b[1;32m     74\u001b[0m \u001b[0;34m\u001b[0m\u001b[0m\n\u001b[1;32m     75\u001b[0m     \u001b[0;32mdef\u001b[0m \u001b[0m_check_X\u001b[0m\u001b[0;34m(\u001b[0m\u001b[0mself\u001b[0m\u001b[0;34m,\u001b[0m \u001b[0mX\u001b[0m\u001b[0;34m)\u001b[0m\u001b[0;34m:\u001b[0m\u001b[0;34m\u001b[0m\u001b[0;34m\u001b[0m\u001b[0m\n\u001b[0;32m---> 76\u001b[0;31m         return check_array(X, accept_sparse=['csr', 'csc'], ensure_2d=True,\n\u001b[0m\u001b[1;32m     77\u001b[0m                            allow_nd=True, dtype=None)\n\u001b[1;32m     78\u001b[0m \u001b[0;34m\u001b[0m\u001b[0m\n",
      "\u001b[0;32m~/anaconda3/lib/python3.8/site-packages/sklearn/utils/validation.py\u001b[0m in \u001b[0;36minner_f\u001b[0;34m(*args, **kwargs)\u001b[0m\n\u001b[1;32m     70\u001b[0m                           FutureWarning)\n\u001b[1;32m     71\u001b[0m         \u001b[0mkwargs\u001b[0m\u001b[0;34m.\u001b[0m\u001b[0mupdate\u001b[0m\u001b[0;34m(\u001b[0m\u001b[0;34m{\u001b[0m\u001b[0mk\u001b[0m\u001b[0;34m:\u001b[0m \u001b[0marg\u001b[0m \u001b[0;32mfor\u001b[0m \u001b[0mk\u001b[0m\u001b[0;34m,\u001b[0m \u001b[0marg\u001b[0m \u001b[0;32min\u001b[0m \u001b[0mzip\u001b[0m\u001b[0;34m(\u001b[0m\u001b[0msig\u001b[0m\u001b[0;34m.\u001b[0m\u001b[0mparameters\u001b[0m\u001b[0;34m,\u001b[0m \u001b[0margs\u001b[0m\u001b[0;34m)\u001b[0m\u001b[0;34m}\u001b[0m\u001b[0;34m)\u001b[0m\u001b[0;34m\u001b[0m\u001b[0;34m\u001b[0m\u001b[0m\n\u001b[0;32m---> 72\u001b[0;31m         \u001b[0;32mreturn\u001b[0m \u001b[0mf\u001b[0m\u001b[0;34m(\u001b[0m\u001b[0;34m**\u001b[0m\u001b[0mkwargs\u001b[0m\u001b[0;34m)\u001b[0m\u001b[0;34m\u001b[0m\u001b[0;34m\u001b[0m\u001b[0m\n\u001b[0m\u001b[1;32m     73\u001b[0m     \u001b[0;32mreturn\u001b[0m \u001b[0minner_f\u001b[0m\u001b[0;34m\u001b[0m\u001b[0;34m\u001b[0m\u001b[0m\n\u001b[1;32m     74\u001b[0m \u001b[0;34m\u001b[0m\u001b[0m\n",
      "\u001b[0;32m~/anaconda3/lib/python3.8/site-packages/sklearn/utils/validation.py\u001b[0m in \u001b[0;36mcheck_array\u001b[0;34m(array, accept_sparse, accept_large_sparse, dtype, order, copy, force_all_finite, ensure_2d, allow_nd, ensure_min_samples, ensure_min_features, estimator)\u001b[0m\n\u001b[1;32m    642\u001b[0m \u001b[0;34m\u001b[0m\u001b[0m\n\u001b[1;32m    643\u001b[0m         \u001b[0;32mif\u001b[0m \u001b[0mforce_all_finite\u001b[0m\u001b[0;34m:\u001b[0m\u001b[0;34m\u001b[0m\u001b[0;34m\u001b[0m\u001b[0m\n\u001b[0;32m--> 644\u001b[0;31m             _assert_all_finite(array,\n\u001b[0m\u001b[1;32m    645\u001b[0m                                allow_nan=force_all_finite == 'allow-nan')\n\u001b[1;32m    646\u001b[0m \u001b[0;34m\u001b[0m\u001b[0m\n",
      "\u001b[0;32m~/anaconda3/lib/python3.8/site-packages/sklearn/utils/validation.py\u001b[0m in \u001b[0;36m_assert_all_finite\u001b[0;34m(X, allow_nan, msg_dtype)\u001b[0m\n\u001b[1;32m     94\u001b[0m                 not allow_nan and not np.isfinite(X).all()):\n\u001b[1;32m     95\u001b[0m             \u001b[0mtype_err\u001b[0m \u001b[0;34m=\u001b[0m \u001b[0;34m'infinity'\u001b[0m \u001b[0;32mif\u001b[0m \u001b[0mallow_nan\u001b[0m \u001b[0;32melse\u001b[0m \u001b[0;34m'NaN, infinity'\u001b[0m\u001b[0;34m\u001b[0m\u001b[0;34m\u001b[0m\u001b[0m\n\u001b[0;32m---> 96\u001b[0;31m             raise ValueError(\n\u001b[0m\u001b[1;32m     97\u001b[0m                     \u001b[0mmsg_err\u001b[0m\u001b[0;34m.\u001b[0m\u001b[0mformat\u001b[0m\u001b[0;34m\u001b[0m\u001b[0;34m\u001b[0m\u001b[0m\n\u001b[1;32m     98\u001b[0m                     (type_err,\n",
      "\u001b[0;31mValueError\u001b[0m: Input contains NaN, infinity or a value too large for dtype('float64')."
     ]
    }
   ],
   "source": [
    "#Este es el código para ver cómo funciona el modelo de verdad\n",
    "\n",
    "adab = AdaBoostClassifier(n_estimators=14)\n",
    "\n",
    "X_train_c=X_train.append(X_valid)\n",
    "y_train_c=y_train.append(y_valid)\n",
    "X_test_c=X_test.copy()\n",
    "y_test_c=y_test.copy()\n",
    "\n",
    "conf_mat, f1sc, accsc = walk_forward_validation(adab, X_train_c, y_train_c, X_test_c, y_test_c)\n",
    "\n",
    "print(conf_mat, f1sc, accsc)"
   ]
  },
  {
   "cell_type": "code",
   "execution_count": null,
   "metadata": {},
   "outputs": [],
   "source": []
  }
 ],
 "metadata": {
  "kernelspec": {
   "display_name": "Python 3",
   "language": "python",
   "name": "python3"
  },
  "language_info": {
   "codemirror_mode": {
    "name": "ipython",
    "version": 3
   },
   "file_extension": ".py",
   "mimetype": "text/x-python",
   "name": "python",
   "nbconvert_exporter": "python",
   "pygments_lexer": "ipython3",
   "version": "3.8.5"
  }
 },
 "nbformat": 4,
 "nbformat_minor": 4
}
