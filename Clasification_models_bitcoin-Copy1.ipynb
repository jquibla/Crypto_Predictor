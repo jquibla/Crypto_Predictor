{
 "cells": [
  {
   "cell_type": "code",
   "execution_count": 22,
   "metadata": {},
   "outputs": [],
   "source": [
    "import pandas as pd\n",
    "import numpy as np\n",
    "from sklearn import metrics\n",
    "\n",
    "from sklearn.model_selection import train_test_split\n",
    "from datetime import datetime\n",
    "from sklearn.pipeline import Pipeline\n",
    "from sklearn.preprocessing import OneHotEncoder\n",
    "\n",
    "from sklearn.compose import ColumnTransformer\n",
    "from sklearn.preprocessing import StandardScaler\n",
    "\n",
    "from sklearn.linear_model import LogisticRegression\n",
    "from sklearn.tree import DecisionTreeClassifier\n",
    "from sklearn.svm import SVC\n",
    "from sklearn.naive_bayes import GaussianNB\n",
    "from sklearn.neighbors import KNeighborsClassifier\n",
    "from sklearn.ensemble import AdaBoostClassifier\n",
    "\n",
    "import numbers\n",
    "from sklearn import model_selection\n"
   ]
  },
  {
   "cell_type": "code",
   "execution_count": 23,
   "metadata": {},
   "outputs": [],
   "source": [
    "# Aquí, a futuro, habría que añadir los datos del Nasdaq, oro y/o Ethereum para ver los resultados\n",
    "data_for_use = pd.read_csv('./bitcoin_data_for_use_v2.csv', index_col=0)\n",
    "data_gold = pd.read_csv('./gold_data_for_use.csv', index_col=0)\n",
    "data_nasdaq = pd.read_csv('./nasdaq_data_for_use.csv', index_col=0)\n",
    "\n",
    "data_for_use_w_gold = data_for_use.merge(data_gold, left_index=True, right_index=True)\n",
    "data_for_use_w_nasdaq = data_for_use.merge(data_nasdaq, left_index=True, right_index=True)\n",
    "\n",
    "data_for_use_w_all = data_for_use_w_gold.merge(data_nasdaq, left_index=True, right_index=True)\n",
    "\n",
    "\n",
    "\n"
   ]
  },
  {
   "cell_type": "code",
   "execution_count": 24,
   "metadata": {},
   "outputs": [],
   "source": [
    "#aqui se marca lo que se va a usar de verdad para el resto del programa\n",
    "data_for_use = data_for_use_w_nasdaq"
   ]
  },
  {
   "cell_type": "code",
   "execution_count": 25,
   "metadata": {},
   "outputs": [],
   "source": [
    "# Partimos los datos en train y test por fechas, sin que sea aleatorio, que es como funcionaría\n",
    "# en la realidad el modelo\n",
    "data_no_test, data_test = train_test_split(data_for_use, shuffle=False, test_size=0.2)\n",
    "\n",
    "# Partimos los datos de train nuevamente en validation y train\n",
    "data_train, data_valid = train_test_split(data_no_test, shuffle=False, test_size=0.2)"
   ]
  },
  {
   "cell_type": "code",
   "execution_count": 26,
   "metadata": {},
   "outputs": [],
   "source": [
    "# Separamos la variable que queremos predecir\n",
    "X_train=data_train.drop(labels=['subida'], axis=1)\n",
    "y_train=data_train['subida']\n",
    "\n",
    "X_valid=data_valid.drop(labels=['subida'], axis=1)\n",
    "y_valid=data_valid['subida']\n",
    "\n",
    "X_test=data_test.drop(labels=['subida'], axis=1)\n",
    "y_test=data_test['subida']"
   ]
  },
  {
   "cell_type": "code",
   "execution_count": 27,
   "metadata": {},
   "outputs": [
    {
     "data": {
      "text/plain": [
       "0.5683345780433159"
      ]
     },
     "execution_count": 27,
     "metadata": {},
     "output_type": "execute_result"
    }
   ],
   "source": [
    "# Miramos cuántos días sube el bitcoin sobre el total en cada uno de los segmentos\n",
    "# esto nos servirá para hacernos una idea de cómo de buenos son los resultados de los modelos\n",
    "y_train.sum()/y_train.size"
   ]
  },
  {
   "cell_type": "code",
   "execution_count": 28,
   "metadata": {},
   "outputs": [
    {
     "data": {
      "text/plain": [
       "0.48656716417910445"
      ]
     },
     "execution_count": 28,
     "metadata": {},
     "output_type": "execute_result"
    }
   ],
   "source": [
    "y_valid.sum()/y_valid.size"
   ]
  },
  {
   "cell_type": "code",
   "execution_count": 29,
   "metadata": {},
   "outputs": [
    {
     "data": {
      "text/plain": [
       "0.5513126491646778"
      ]
     },
     "execution_count": 29,
     "metadata": {},
     "output_type": "execute_result"
    }
   ],
   "source": [
    "y_test.sum()/y_test.size"
   ]
  },
  {
   "cell_type": "code",
   "execution_count": 30,
   "metadata": {},
   "outputs": [],
   "source": [
    "#Tenemos que hacer one-hot encoding sobre la columna \"dia\"\n",
    "#Sobre el resto aplicamos el standardscaler\n",
    "\n",
    "number_columns = data_for_use.select_dtypes('number').columns\n",
    "\n",
    "t=[('dia', \n",
    "    OneHotEncoder(handle_unknown='ignore'),\n",
    "    ['dia'])\n",
    "    ,('scaler', StandardScaler(),number_columns)\n",
    "    ]\n",
    "\n",
    "ct = ColumnTransformer(transformers=t, remainder='passthrough')\n",
    "\n",
    "#data_for_use_t=ct.fit_transform(data_for_use)\n",
    "\n",
    "#X_train=ct.fit_transform(X_train)\n",
    "#X_valid=ct.transform(X_valid)\n",
    "#X_test=ct.transform(X_test)"
   ]
  },
  {
   "cell_type": "code",
   "execution_count": 31,
   "metadata": {},
   "outputs": [],
   "source": [
    "def walk_forward_validation (model, X_train_wfv, y_train_wfv, X_test_wfv, y_test_wfv):\n",
    "    y_pred_wfv = list()\n",
    "    for i in range(len(y_test_wfv)):\n",
    "        X_train_wfv_ct=ct.fit_transform(X_train_wfv)\n",
    "        model.fit(X_train_wfv_ct, y_train_wfv)\n",
    "        X_test_wfv_ct=ct.transform(X_test_wfv)\n",
    "        y_pred_next = model.predict(X_test_wfv_ct[i:i+1])\n",
    "        y_pred_wfv.append(y_pred_next[0])\n",
    "        X_train_wfv=X_train_wfv.append(X_test_wfv[i:i+1])\n",
    "        y_train_wfv=y_train_wfv.append(pd.Series(y_test_wfv[i]))\n",
    "    \n",
    "    return metrics.confusion_matrix(y_test_wfv, y_pred_wfv), metrics.f1_score(y_test_wfv,y_pred_wfv), metrics.accuracy_score(y_test_wfv,y_pred_wfv)\n",
    "        \n",
    "        "
   ]
  },
  {
   "cell_type": "code",
   "execution_count": 11,
   "metadata": {},
   "outputs": [],
   "source": [
    "lr = LogisticRegression(penalty='l2', solver='lbfgs')\n",
    "\n",
    "X_train_c=X_train.copy()\n",
    "y_train_c=y_train.copy()\n",
    "X_valid_c=X_valid.copy()\n",
    "y_valid_c=y_valid.copy()\n",
    "\n",
    "\n",
    "conf_mat, f1sc, accsc = walk_forward_validation(lr, X_train_c, y_train_c, X_valid_c, y_valid_c)"
   ]
  },
  {
   "cell_type": "code",
   "execution_count": 12,
   "metadata": {},
   "outputs": [
    {
     "name": "stdout",
     "output_type": "stream",
     "text": [
      "[[ 55 117]\n",
      " [ 44 119]] 0.5964912280701754 0.5194029850746269\n"
     ]
    }
   ],
   "source": [
    "print(conf_mat, f1sc, accsc)"
   ]
  },
  {
   "cell_type": "code",
   "execution_count": 13,
   "metadata": {},
   "outputs": [
    {
     "name": "stdout",
     "output_type": "stream",
     "text": [
      "Numero de vecinos aplicado: 1\n",
      "[[80 92]\n",
      " [83 80]] 0.47761194029850745 0.47761194029850745\n",
      "Numero de vecinos aplicado: 2\n",
      "[[132  40]\n",
      " [117  46]] 0.36947791164658633 0.5313432835820896\n",
      "Numero de vecinos aplicado: 3\n",
      "[[73 99]\n",
      " [68 95]] 0.5322128851540616 0.5014925373134328\n",
      "Numero de vecinos aplicado: 4\n",
      "[[102  70]\n",
      " [ 99  64]] 0.430976430976431 0.4955223880597015\n",
      "Numero de vecinos aplicado: 5\n",
      "[[ 67 105]\n",
      " [ 71  92]] 0.5111111111111111 0.4746268656716418\n",
      "Numero de vecinos aplicado: 6\n",
      "[[86 86]\n",
      " [86 77]] 0.4723926380368098 0.48656716417910445\n",
      "Numero de vecinos aplicado: 7\n",
      "[[ 56 116]\n",
      " [ 66  97]] 0.5159574468085106 0.45671641791044776\n",
      "Numero de vecinos aplicado: 8\n",
      "[[76 96]\n",
      " [81 82]] 0.4809384164222874 0.4716417910447761\n",
      "Numero de vecinos aplicado: 9\n",
      "[[ 49 123]\n",
      " [ 55 108]] 0.5482233502538072 0.46865671641791046\n",
      "Numero de vecinos aplicado: 10\n",
      "[[ 71 101]\n",
      " [ 70  93]] 0.5210084033613445 0.48955223880597015\n",
      "Numero de vecinos aplicado: 11\n",
      "[[ 46 126]\n",
      " [ 45 118]] 0.5798525798525799 0.48955223880597015\n",
      "Numero de vecinos aplicado: 12\n",
      "[[ 60 112]\n",
      " [ 56 107]] 0.5602094240837696 0.49850746268656715\n",
      "Numero de vecinos aplicado: 13\n",
      "[[ 39 133]\n",
      " [ 43 120]] 0.576923076923077 0.4746268656716418\n",
      "Numero de vecinos aplicado: 14\n",
      "[[ 51 121]\n",
      " [ 53 110]] 0.5583756345177665 0.48059701492537316\n",
      "Numero de vecinos aplicado: 15\n",
      "[[ 31 141]\n",
      " [ 39 124]] 0.5794392523364487 0.4626865671641791\n",
      "Numero de vecinos aplicado: 16\n",
      "[[ 41 131]\n",
      " [ 47 116]] 0.5658536585365854 0.46865671641791046\n",
      "Numero de vecinos aplicado: 17\n",
      "[[ 31 141]\n",
      " [ 33 130]] 0.5990783410138248 0.48059701492537316\n",
      "Numero de vecinos aplicado: 18\n",
      "[[ 38 134]\n",
      " [ 43 120]] 0.5755395683453237 0.4716417910447761\n",
      "Numero de vecinos aplicado: 19\n",
      "[[ 23 149]\n",
      " [ 30 133]] 0.597752808988764 0.46567164179104475\n",
      "Numero de vecinos aplicado: 20\n",
      "[[ 34 138]\n",
      " [ 38 125]] 0.5868544600938967 0.4746268656716418\n",
      "Numero de vecinos aplicado: 21\n",
      "[[ 20 152]\n",
      " [ 23 140]] 0.6153846153846154 0.47761194029850745\n",
      "Numero de vecinos aplicado: 22\n",
      "[[ 30 142]\n",
      " [ 27 136]] 0.616780045351474 0.4955223880597015\n",
      "Numero de vecinos aplicado: 23\n",
      "[[ 22 150]\n",
      " [ 21 142]] 0.6241758241758242 0.48955223880597015\n",
      "Numero de vecinos aplicado: 24\n",
      "[[ 28 144]\n",
      " [ 29 134]] 0.6077097505668934 0.4835820895522388\n",
      "Numero de vecinos aplicado: 25\n",
      "[[ 18 154]\n",
      " [ 21 142]] 0.6187363834422658 0.47761194029850745\n",
      "Numero de vecinos aplicado: 26\n",
      "[[ 24 148]\n",
      " [ 27 136]] 0.6085011185682326 0.47761194029850745\n",
      "Numero de vecinos aplicado: 27\n",
      "[[ 15 157]\n",
      " [ 21 142]] 0.6147186147186147 0.46865671641791046\n",
      "Numero de vecinos aplicado: 28\n",
      "[[ 22 150]\n",
      " [ 25 138]] 0.6119733924611973 0.47761194029850745\n",
      "Numero de vecinos aplicado: 29\n",
      "[[ 14 158]\n",
      " [ 19 144]] 0.6193548387096774 0.4716417910447761\n",
      "Numero de vecinos aplicado: 30\n",
      "[[ 19 153]\n",
      " [ 26 137]] 0.6048565121412804 0.46567164179104475\n"
     ]
    }
   ],
   "source": [
    "for vecinos in range(1,31):\n",
    "    kn = KNeighborsClassifier(n_neighbors=vecinos)\n",
    "    \n",
    "    X_train_c=X_train.copy()\n",
    "    y_train_c=y_train.copy()\n",
    "    X_valid_c=X_valid.copy()\n",
    "    y_valid_c=y_valid.copy()\n",
    "\n",
    "\n",
    "    conf_mat, f1sc, accsc = walk_forward_validation(kn, X_train_c, y_train_c, X_valid_c, y_valid_c)\n",
    "    print (\"Numero de vecinos aplicado: \" + str(vecinos))\n",
    "    print(conf_mat, f1sc, accsc)"
   ]
  },
  {
   "cell_type": "code",
   "execution_count": 15,
   "metadata": {},
   "outputs": [
    {
     "name": "stdout",
     "output_type": "stream",
     "text": [
      "Grado aplicado: 1\n",
      "[[ 43 129]\n",
      " [ 33 130]] 0.6161137440758293 0.5164179104477612\n",
      "Grado aplicado: 2\n",
      "[[ 27 145]\n",
      " [ 41 122]] 0.5674418604651164 0.44477611940298506\n",
      "Grado aplicado: 3\n",
      "[[ 15 157]\n",
      " [ 22 141]] 0.6117136659436009 0.46567164179104475\n"
     ]
    }
   ],
   "source": [
    "for grado in range(1,4):\n",
    "    sv = SVC(probability=True, kernel='poly', degree=grado)\n",
    "    \n",
    "    X_train_c=X_train.copy()\n",
    "    y_train_c=y_train.copy()\n",
    "    X_valid_c=X_valid.copy()\n",
    "    y_valid_c=y_valid.copy()\n",
    "\n",
    "\n",
    "    conf_mat, f1sc, accsc = walk_forward_validation(sv, X_train_c, y_train_c, X_valid_c, y_valid_c)\n",
    "    print (\"Grado aplicado: \" + str(grado))\n",
    "    print(conf_mat, f1sc, accsc)"
   ]
  },
  {
   "cell_type": "code",
   "execution_count": 16,
   "metadata": {},
   "outputs": [
    {
     "name": "stdout",
     "output_type": "stream",
     "text": [
      "Maxima profundidad aplicada: 1\n",
      "[[  4 168]\n",
      " [  6 157]] 0.6434426229508197 0.48059701492537316\n",
      "Maxima profundidad aplicada: 2\n",
      "[[  4 168]\n",
      " [  9 154]] 0.6350515463917525 0.4716417910447761\n",
      "Maxima profundidad aplicada: 3\n",
      "[[ 16 156]\n",
      " [ 15 148]] 0.6338329764453962 0.48955223880597015\n",
      "Maxima profundidad aplicada: 4\n",
      "[[ 33 139]\n",
      " [ 33 130]] 0.601851851851852 0.48656716417910445\n",
      "Maxima profundidad aplicada: 5\n",
      "[[ 32 140]\n",
      " [ 40 123]] 0.5774647887323944 0.4626865671641791\n",
      "Maxima profundidad aplicada: 6\n",
      "[[ 60 112]\n",
      " [ 52 111]] 0.5751295336787564 0.5104477611940299\n",
      "Maxima profundidad aplicada: 7\n",
      "[[ 43 129]\n",
      " [ 51 112]] 0.5544554455445544 0.4626865671641791\n",
      "Maxima profundidad aplicada: 8\n",
      "[[ 71 101]\n",
      " [ 65  98]] 0.5414364640883977 0.5044776119402985\n",
      "Maxima profundidad aplicada: 9\n",
      "[[ 70 102]\n",
      " [ 64  99]] 0.543956043956044 0.5044776119402985\n",
      "Maxima profundidad aplicada: 10\n",
      "[[ 76  96]\n",
      " [ 61 102]] 0.5650969529085873 0.5313432835820896\n",
      "Maxima profundidad aplicada: 11\n",
      "[[ 71 101]\n",
      " [ 72  91]] 0.512676056338028 0.4835820895522388\n",
      "Maxima profundidad aplicada: 12\n",
      "[[85 87]\n",
      " [80 83]] 0.4984984984984984 0.5014925373134328\n",
      "Maxima profundidad aplicada: 13\n",
      "[[88 84]\n",
      " [79 84]] 0.5075528700906344 0.5134328358208955\n",
      "Maxima profundidad aplicada: 14\n",
      "[[85 87]\n",
      " [78 85]] 0.5074626865671642 0.5074626865671642\n",
      "Maxima profundidad aplicada: 15\n",
      "[[85 87]\n",
      " [77 86]] 0.5119047619047619 0.5104477611940299\n",
      "Maxima profundidad aplicada: 16\n",
      "[[91 81]\n",
      " [78 85]] 0.5167173252279635 0.5253731343283582\n",
      "Maxima profundidad aplicada: 17\n",
      "[[83 89]\n",
      " [82 81]] 0.4864864864864865 0.48955223880597015\n",
      "Maxima profundidad aplicada: 18\n",
      "[[87 85]\n",
      " [85 78]] 0.4785276073619632 0.4925373134328358\n",
      "Maxima profundidad aplicada: 19\n",
      "[[91 81]\n",
      " [84 79]] 0.4891640866873065 0.5074626865671642\n",
      "Maxima profundidad aplicada: 20\n",
      "[[85 87]\n",
      " [83 80]] 0.48484848484848486 0.4925373134328358\n",
      "Maxima profundidad aplicada: 21\n",
      "[[89 83]\n",
      " [84 79]] 0.48615384615384616 0.5014925373134328\n",
      "Maxima profundidad aplicada: 22\n",
      "[[89 83]\n",
      " [84 79]] 0.48615384615384616 0.5014925373134328\n",
      "Maxima profundidad aplicada: 23\n",
      "[[91 81]\n",
      " [78 85]] 0.5167173252279635 0.5253731343283582\n",
      "Maxima profundidad aplicada: 24\n",
      "[[93 79]\n",
      " [81 82]] 0.5061728395061728 0.5223880597014925\n",
      "Maxima profundidad aplicada: 25\n",
      "[[88 84]\n",
      " [76 87]] 0.5209580838323353 0.5223880597014925\n",
      "Maxima profundidad aplicada: 26\n",
      "[[90 82]\n",
      " [85 78]] 0.4829721362229103 0.5014925373134328\n",
      "Maxima profundidad aplicada: 27\n",
      "[[85 87]\n",
      " [83 80]] 0.48484848484848486 0.4925373134328358\n",
      "Maxima profundidad aplicada: 28\n",
      "[[89 83]\n",
      " [83 80]] 0.49079754601227 0.5044776119402985\n",
      "Maxima profundidad aplicada: 29\n",
      "[[84 88]\n",
      " [76 87]] 0.514792899408284 0.5104477611940299\n",
      "Maxima profundidad aplicada: 30\n",
      "[[85 87]\n",
      " [86 77]] 0.4709480122324159 0.4835820895522388\n"
     ]
    }
   ],
   "source": [
    "for profund in range(1,31):\n",
    "    dt = DecisionTreeClassifier(max_depth=profund)\n",
    "    \n",
    "    X_train_c=X_train.copy()\n",
    "    y_train_c=y_train.copy()\n",
    "    X_valid_c=X_valid.copy()\n",
    "    y_valid_c=y_valid.copy()\n",
    "\n",
    "\n",
    "    conf_mat, f1sc, accsc = walk_forward_validation(dt, X_train_c, y_train_c, X_valid_c, y_valid_c)\n",
    "    print (\"Maxima profundidad aplicada: \" + str(profund))\n",
    "    print(conf_mat, f1sc, accsc)"
   ]
  },
  {
   "cell_type": "code",
   "execution_count": 17,
   "metadata": {},
   "outputs": [
    {
     "name": "stdout",
     "output_type": "stream",
     "text": [
      "Estimadores aplicados: 1\n",
      "[[  4 168]\n",
      " [  6 157]] 0.6434426229508197 0.48059701492537316\n",
      "Estimadores aplicados: 2\n",
      "[[  7 165]\n",
      " [ 10 153]] 0.6361746361746361 0.47761194029850745\n",
      "Estimadores aplicados: 3\n",
      "[[ 15 157]\n",
      " [ 15 148]] 0.6324786324786325 0.48656716417910445\n",
      "Estimadores aplicados: 4\n",
      "[[ 17 155]\n",
      " [ 18 145]] 0.6263498920086392 0.4835820895522388\n",
      "Estimadores aplicados: 5\n",
      "[[ 31 141]\n",
      " [ 30 133]] 0.608695652173913 0.48955223880597015\n",
      "Estimadores aplicados: 6\n",
      "[[ 47 125]\n",
      " [ 42 121]] 0.5916870415647922 0.5014925373134328\n",
      "Estimadores aplicados: 7\n",
      "[[ 50 122]\n",
      " [ 48 115]] 0.5750000000000001 0.4925373134328358\n",
      "Estimadores aplicados: 8\n",
      "[[ 51 121]\n",
      " [ 54 109]] 0.55470737913486 0.47761194029850745\n",
      "Estimadores aplicados: 9\n",
      "[[ 54 118]\n",
      " [ 52 111]] 0.5663265306122448 0.4925373134328358\n",
      "Estimadores aplicados: 10\n",
      "[[ 59 113]\n",
      " [ 57 106]] 0.5549738219895287 0.4925373134328358\n",
      "Estimadores aplicados: 11\n",
      "[[ 58 114]\n",
      " [ 57 106]] 0.5535248041775458 0.48955223880597015\n",
      "Estimadores aplicados: 12\n",
      "[[ 64 108]\n",
      " [ 64  99]] 0.5351351351351352 0.48656716417910445\n",
      "Estimadores aplicados: 13\n",
      "[[ 63 109]\n",
      " [ 60 103]] 0.5493333333333333 0.4955223880597015\n",
      "Estimadores aplicados: 14\n",
      "[[ 61 111]\n",
      " [ 58 105]] 0.5540897097625329 0.4955223880597015\n",
      "Estimadores aplicados: 15\n",
      "[[ 60 112]\n",
      " [ 56 107]] 0.5602094240837696 0.49850746268656715\n",
      "Estimadores aplicados: 16\n",
      "[[ 65 107]\n",
      " [ 58 105]] 0.5599999999999999 0.5074626865671642\n",
      "Estimadores aplicados: 17\n",
      "[[ 65 107]\n",
      " [ 54 109]] 0.575197889182058 0.5194029850746269\n",
      "Estimadores aplicados: 18\n",
      "[[ 66 106]\n",
      " [ 54 109]] 0.5767195767195767 0.5223880597014925\n",
      "Estimadores aplicados: 19\n",
      "[[ 65 107]\n",
      " [ 53 110]] 0.5789473684210528 0.5223880597014925\n",
      "Estimadores aplicados: 20\n",
      "[[ 63 109]\n",
      " [ 56 107]] 0.5646437994722955 0.5074626865671642\n"
     ]
    }
   ],
   "source": [
    "for estimadores in range(1,21):\n",
    "    adab = AdaBoostClassifier(n_estimators=estimadores)\n",
    "    \n",
    "    X_train_c=X_train.copy()\n",
    "    y_train_c=y_train.copy()\n",
    "    X_valid_c=X_valid.copy()\n",
    "    y_valid_c=y_valid.copy()\n",
    "\n",
    "\n",
    "    conf_mat, f1sc, accsc = walk_forward_validation(adab, X_train_c, y_train_c, X_valid_c, y_valid_c)\n",
    "    print (\"Estimadores aplicados: \" + str(estimadores))\n",
    "    print(conf_mat, f1sc, accsc)"
   ]
  },
  {
   "cell_type": "code",
   "execution_count": null,
   "metadata": {},
   "outputs": [],
   "source": []
  },
  {
   "cell_type": "code",
   "execution_count": 18,
   "metadata": {},
   "outputs": [
    {
     "data": {
      "text/plain": [
       "(array([[233, 517],\n",
       "        [137, 787]]),\n",
       " 0.7064631956912029,\n",
       " 0.6093189964157706)"
      ]
     },
     "execution_count": 18,
     "metadata": {},
     "output_type": "execute_result"
    }
   ],
   "source": [
    "sv = SVC(probability=True, kernel='poly', degree=1)\n",
    "\n",
    "X_train_c=X_train.append(X_valid)\n",
    "y_train_c=y_train.append(y_valid)\n",
    "\n",
    "X_train_c=ct.fit_transform(X_train_c)\n",
    "sv.fit(X_train_c,y_train_c)\n",
    "y_predict=sv.predict(X_train_c)\n",
    "\n",
    "(metrics.confusion_matrix(y_train_c, y_predict), metrics.f1_score(y_train_c,y_predict), metrics.accuracy_score(y_train_c,y_predict))"
   ]
  },
  {
   "cell_type": "code",
   "execution_count": 14,
   "metadata": {},
   "outputs": [
    {
     "data": {
      "text/plain": [
       "(array([[490, 260],\n",
       "        [148, 776]], dtype=int64),\n",
       " 0.7918367346938775,\n",
       " 0.7562724014336918)"
      ]
     },
     "execution_count": 14,
     "metadata": {},
     "output_type": "execute_result"
    }
   ],
   "source": [
    "dt = DecisionTreeClassifier(max_depth=10)\n",
    "\n",
    "X_train_c=X_train.append(X_valid)\n",
    "y_train_c=y_train.append(y_valid)\n",
    "\n",
    "X_train_c=ct.fit_transform(X_train_c)\n",
    "dt.fit(X_train_c,y_train_c)\n",
    "y_predict=dt.predict(X_train_c)\n",
    "\n",
    "(metrics.confusion_matrix(y_train_c, y_predict), metrics.f1_score(y_train_c,y_predict), metrics.accuracy_score(y_train_c,y_predict))"
   ]
  },
  {
   "cell_type": "code",
   "execution_count": 15,
   "metadata": {},
   "outputs": [
    {
     "data": {
      "text/plain": [
       "(array([[750,   0],\n",
       "        [  0, 924]], dtype=int64),\n",
       " 1.0,\n",
       " 1.0)"
      ]
     },
     "execution_count": 15,
     "metadata": {},
     "output_type": "execute_result"
    }
   ],
   "source": [
    "dt = DecisionTreeClassifier(max_depth=23)\n",
    "\n",
    "X_train_c=X_train.append(X_valid)\n",
    "y_train_c=y_train.append(y_valid)\n",
    "\n",
    "X_train_c=ct.fit_transform(X_train_c)\n",
    "dt.fit(X_train_c,y_train_c)\n",
    "y_predict=dt.predict(X_train_c)\n",
    "\n",
    "(metrics.confusion_matrix(y_train_c, y_predict), metrics.f1_score(y_train_c,y_predict), metrics.accuracy_score(y_train_c,y_predict))"
   ]
  },
  {
   "cell_type": "code",
   "execution_count": 16,
   "metadata": {},
   "outputs": [
    {
     "data": {
      "text/plain": [
       "(array([[750,   0],\n",
       "        [359, 565]], dtype=int64),\n",
       " 0.7588985896574882,\n",
       " 0.7855436081242533)"
      ]
     },
     "execution_count": 16,
     "metadata": {},
     "output_type": "execute_result"
    }
   ],
   "source": [
    "kn = KNeighborsClassifier(n_neighbors=2)\n",
    "\n",
    "X_train_c=X_train.append(X_valid)\n",
    "y_train_c=y_train.append(y_valid)\n",
    "\n",
    "X_train_c=ct.fit_transform(X_train_c)\n",
    "kn.fit(X_train_c,y_train_c)\n",
    "y_predict=kn.predict(X_train_c)\n",
    "\n",
    "(metrics.confusion_matrix(y_train_c, y_predict), metrics.f1_score(y_train_c,y_predict), metrics.accuracy_score(y_train_c,y_predict))"
   ]
  },
  {
   "cell_type": "code",
   "execution_count": 17,
   "metadata": {},
   "outputs": [
    {
     "data": {
      "text/plain": [
       "(array([[321, 429],\n",
       "        [187, 737]], dtype=int64),\n",
       " 0.7052631578947369,\n",
       " 0.6320191158900836)"
      ]
     },
     "execution_count": 17,
     "metadata": {},
     "output_type": "execute_result"
    }
   ],
   "source": [
    "adab = AdaBoostClassifier(n_estimators=18)\n",
    "\n",
    "X_train_c=X_train.append(X_valid)\n",
    "y_train_c=y_train.append(y_valid)\n",
    "\n",
    "X_train_c=ct.fit_transform(X_train_c)\n",
    "adab.fit(X_train_c,y_train_c)\n",
    "y_predict=adab.predict(X_train_c)\n",
    "\n",
    "(metrics.confusion_matrix(y_train_c, y_predict), metrics.f1_score(y_train_c,y_predict), metrics.accuracy_score(y_train_c,y_predict))"
   ]
  },
  {
   "cell_type": "code",
   "execution_count": null,
   "metadata": {},
   "outputs": [],
   "source": []
  },
  {
   "cell_type": "code",
   "execution_count": 32,
   "metadata": {},
   "outputs": [
    {
     "name": "stdout",
     "output_type": "stream",
     "text": [
      "[[ 70 118]\n",
      " [ 88 143]] 0.5813008130081301 0.5083532219570406\n"
     ]
    }
   ],
   "source": [
    "#Este es el código para ver cómo funciona el modelo de verdad\n",
    "\n",
    "dt = DecisionTreeClassifier(max_depth=10)\n",
    "\n",
    "X_train_c=X_train.append(X_valid)\n",
    "y_train_c=y_train.append(y_valid)\n",
    "X_test_c=X_test.copy()\n",
    "y_test_c=y_test.copy()\n",
    "\n",
    "conf_mat, f1sc, accsc = walk_forward_validation(dt, X_train_c, y_train_c, X_test_c, y_test_c)\n",
    "\n",
    "print(conf_mat, f1sc, accsc)"
   ]
  },
  {
   "cell_type": "code",
   "execution_count": null,
   "metadata": {},
   "outputs": [],
   "source": []
  }
 ],
 "metadata": {
  "kernelspec": {
   "display_name": "Python 3",
   "language": "python",
   "name": "python3"
  },
  "language_info": {
   "codemirror_mode": {
    "name": "ipython",
    "version": 3
   },
   "file_extension": ".py",
   "mimetype": "text/x-python",
   "name": "python",
   "nbconvert_exporter": "python",
   "pygments_lexer": "ipython3",
   "version": "3.8.5"
  }
 },
 "nbformat": 4,
 "nbformat_minor": 4
}
